{
 "cells": [
  {
   "cell_type": "markdown",
   "id": "806bb54a",
   "metadata": {},
   "source": [
    "# Scikit-learn overview"
   ]
  },
  {
   "cell_type": "markdown",
   "id": "5c3dd771",
   "metadata": {},
   "source": [
    "* Scikit-learn is a library containing many machine learning algorithms.\n",
    "* It utilizes a genralized \"estimator API(application programming interface)\" framework to calling the models.\n",
    "* This means the way algorithms are imported, fitted, and used is uniform across all algorithms.\n",
    "* This allows users to easily swap algorithms in and out and test various approaches.\n",
    "* Important Note: \n",
    "    This uniform framework also means users can easily apply almost any algorithm effectively without trully understanding what the algorithm is doing.\n",
    "* Scikit-learn also comes with many convenience tools, including train test split functions, cross validation tools, and a variety of reporting metric functions."
   ]
  },
  {
   "cell_type": "markdown",
   "id": "69e70dac",
   "metadata": {},
   "source": [
    "**What is Estimator API**\n",
    "\n",
    "It is one of the main APIs implemented by Scikit-learn. It provides a consistent interface for a wide range of ML applications that’s why all machine learning algorithms in Scikit-Learn are implemented via Estimator API. The object that learns from the data (fitting the data) is an estimator. It can be used with any of the algorithms like classification, regression, clustering or even with a transformer, that extracts useful features from raw data."
   ]
  },
  {
   "cell_type": "markdown",
   "id": "5d96312e",
   "metadata": {},
   "source": [
    "**Use of Estimator API**\n",
    "\n",
    "Main uses of estimators are as follows −\n",
    "\n",
    "Estimation and decoding of a model\n",
    "Estimator object is used for estimation and decoding of a model. Furthermore, the model is estimated as a deterministic function of the following −\n",
    "\n",
    "The parameters which are provided in object construction.\n",
    "\n",
    "The global random state (numpy.random) if the estimator’s random_state parameter is set to none.\n",
    "\n",
    "Any data passed to the most recent call to fit, fit_transform, or fit_predict.\n",
    "\n",
    "Any data passed in a sequence of calls to partial_fit."
   ]
  },
  {
   "cell_type": "markdown",
   "id": "33db6ca3",
   "metadata": {},
   "source": [
    "**Mapping non-rectangular data representation into rectangular data**\n",
    "\n",
    "It maps a non-rectangular data representation into rectangular data. In simple words, it takes input where each sample is not represented as an array-like object of fixed length, and producing an array-like object of features for each sample.\n",
    "\n",
    "**Distinction between core and outlying samples**\n",
    "\n",
    "It models the distinction between core and outlying samples by using following methods −\n",
    "\n",
    "fit\n",
    "\n",
    "fit_predict if transductive\n",
    "\n",
    "predict if inductive"
   ]
  },
  {
   "cell_type": "markdown",
   "id": "3b9715a7",
   "metadata": {},
   "source": [
    "# Philosophy of Scikit-Learn"
   ]
  },
  {
   "cell_type": "markdown",
   "id": "7772c023",
   "metadata": {},
   "source": [
    "* Scikit-Learn's approach to model building focuses on applying models and performance metrics.\n",
    "* Academic users used to P style reporting may also want to explore the statsmodels python library if interested in more statistical description of models such as significance levels."
   ]
  },
  {
   "cell_type": "markdown",
   "id": "2e81f29f",
   "metadata": {},
   "source": [
    "# Supervised Machine Learning Process"
   ]
  },
  {
   "cell_type": "markdown",
   "id": "84e0aa85",
   "metadata": {},
   "source": [
    "We will perform a Train|Tesp split for supervised learning. To do that, we use following codes:\n",
    "\n",
    "from **sklearn.model_selection** import **train_test_split**\n",
    "\n",
    "**X_train, X-test, y_train, y_test = train_test_split(X,y)**"
   ]
  },
  {
   "cell_type": "markdown",
   "id": "4cb7b411",
   "metadata": {},
   "source": [
    "Import model that we will use from its model family in sckit-learn as follows:\n",
    "\n",
    "    from sklearn.model_family import ModelAlgo\n",
    "\n",
    "Create an instance of the model as follows\n",
    "\n",
    "    mymodel= ModelAlgo(param1, param2)\n",
    "\n",
    "Train the model as follows\n",
    "\n",
    "    mymodel.fit(X_train, y_train)\n",
    "    \n",
    "Predict using model as follows\n",
    "\n",
    "    predictions = mymodel.predict(x_test)\n",
    "    \n",
    "Evaluate the model using R2 and error metrics as follows\n",
    "\n",
    "    from sklearn.metrics import error_metric\n",
    "    performance = error_metric(y_test, predictions)"
   ]
  },
  {
   "cell_type": "code",
   "execution_count": null,
   "id": "6afa50b7",
   "metadata": {},
   "outputs": [],
   "source": []
  }
 ],
 "metadata": {
  "kernelspec": {
   "display_name": "Python 3 (ipykernel)",
   "language": "python",
   "name": "python3"
  },
  "language_info": {
   "codemirror_mode": {
    "name": "ipython",
    "version": 3
   },
   "file_extension": ".py",
   "mimetype": "text/x-python",
   "name": "python",
   "nbconvert_exporter": "python",
   "pygments_lexer": "ipython3",
   "version": "3.9.7"
  },
  "toc": {
   "base_numbering": 1,
   "nav_menu": {},
   "number_sections": true,
   "sideBar": true,
   "skip_h1_title": false,
   "title_cell": "Table of Contents",
   "title_sidebar": "Contents",
   "toc_cell": false,
   "toc_position": {},
   "toc_section_display": true,
   "toc_window_display": false
  }
 },
 "nbformat": 4,
 "nbformat_minor": 5
}
