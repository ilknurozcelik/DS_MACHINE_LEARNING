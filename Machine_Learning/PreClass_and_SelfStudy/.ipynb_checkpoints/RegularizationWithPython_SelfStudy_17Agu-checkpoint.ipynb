{
 "cells": [
  {
   "cell_type": "markdown",
   "id": "07823f6d",
   "metadata": {},
   "source": [
    "## Regularization : Penalized regression\n",
    "\n",
    "REgularization force the learning algortihm to build a less complex model. In practice, that often leads to slightly higher bias but significantly reduces variance. The most commonly penalized regression models are:\n",
    "\n",
    "* Ridge regression\n",
    "* Lasso regression\n",
    "* Elastic-net regression"
   ]
  },
  {
   "cell_type": "markdown",
   "id": "a1af1663",
   "metadata": {},
   "source": [
    "In this notebook we will explore the three methods and compare their results with a multiple linear regression model applied to our synthetic data generated from the following true model f(x)\n",
    "\n",
    "    y = f(x) = x + 2* x**2 - 3*x**3 + ε\n",
    "    \n",
    "The target variable is y and the features are 5 polynomial features of X. Namely, X1, X, X2= X**2, X3 = X**3 and etc.\n",
    "\n",
    "First we need to import the libraries:"
   ]
  },
  {
   "cell_type": "code",
   "execution_count": 1,
   "id": "f7c16a2d",
   "metadata": {},
   "outputs": [],
   "source": [
    "import numpy as np\n",
    "import pandas as pd\n",
    "import matplotlib.pyplot as plt\n",
    "import seaborn as sns\n",
    "from sklearn.linear_model import LinearRegression\n",
    "import statsmodels.api as sm\n",
    "sns.set() # if you want to use seaborn themes with matplotlib functions\n",
    "import warnings\n",
    "warnings.filterwarnings(\"ignore\")\n"
   ]
  },
  {
   "cell_type": "code",
   "execution_count": 2,
   "id": "73b01f72",
   "metadata": {},
   "outputs": [],
   "source": [
    "rand_state = 1000"
   ]
  },
  {
   "cell_type": "code",
   "execution_count": 3,
   "id": "f23c62c5",
   "metadata": {},
   "outputs": [],
   "source": [
    "df = pd.read_csv(\"Regularization_synthetic.csv\")"
   ]
  },
  {
   "cell_type": "code",
   "execution_count": 4,
   "id": "3eeec226",
   "metadata": {},
   "outputs": [
    {
     "data": {
      "text/html": [
       "<div>\n",
       "<style scoped>\n",
       "    .dataframe tbody tr th:only-of-type {\n",
       "        vertical-align: middle;\n",
       "    }\n",
       "\n",
       "    .dataframe tbody tr th {\n",
       "        vertical-align: top;\n",
       "    }\n",
       "\n",
       "    .dataframe thead th {\n",
       "        text-align: right;\n",
       "    }\n",
       "</style>\n",
       "<table border=\"1\" class=\"dataframe\">\n",
       "  <thead>\n",
       "    <tr style=\"text-align: right;\">\n",
       "      <th></th>\n",
       "      <th>X1</th>\n",
       "      <th>X2</th>\n",
       "      <th>X3</th>\n",
       "      <th>X4</th>\n",
       "      <th>X5</th>\n",
       "      <th>y</th>\n",
       "    </tr>\n",
       "  </thead>\n",
       "  <tbody>\n",
       "    <tr>\n",
       "      <th>0</th>\n",
       "      <td>1.668068</td>\n",
       "      <td>2.782452</td>\n",
       "      <td>4.641320</td>\n",
       "      <td>7.742038</td>\n",
       "      <td>12.914249</td>\n",
       "      <td>-3.901562</td>\n",
       "    </tr>\n",
       "    <tr>\n",
       "      <th>1</th>\n",
       "      <td>0.925862</td>\n",
       "      <td>0.857220</td>\n",
       "      <td>0.793667</td>\n",
       "      <td>0.734826</td>\n",
       "      <td>0.680348</td>\n",
       "      <td>-0.384578</td>\n",
       "    </tr>\n",
       "    <tr>\n",
       "      <th>2</th>\n",
       "      <td>1.057997</td>\n",
       "      <td>1.119357</td>\n",
       "      <td>1.184276</td>\n",
       "      <td>1.252960</td>\n",
       "      <td>1.325628</td>\n",
       "      <td>12.493677</td>\n",
       "    </tr>\n",
       "    <tr>\n",
       "      <th>3</th>\n",
       "      <td>-0.920339</td>\n",
       "      <td>0.847024</td>\n",
       "      <td>-0.779549</td>\n",
       "      <td>0.717449</td>\n",
       "      <td>-0.660297</td>\n",
       "      <td>12.237389</td>\n",
       "    </tr>\n",
       "    <tr>\n",
       "      <th>4</th>\n",
       "      <td>1.299748</td>\n",
       "      <td>1.689346</td>\n",
       "      <td>2.195725</td>\n",
       "      <td>2.853890</td>\n",
       "      <td>3.709339</td>\n",
       "      <td>-3.772851</td>\n",
       "    </tr>\n",
       "  </tbody>\n",
       "</table>\n",
       "</div>"
      ],
      "text/plain": [
       "         X1        X2        X3        X4         X5          y\n",
       "0  1.668068  2.782452  4.641320  7.742038  12.914249  -3.901562\n",
       "1  0.925862  0.857220  0.793667  0.734826   0.680348  -0.384578\n",
       "2  1.057997  1.119357  1.184276  1.252960   1.325628  12.493677\n",
       "3 -0.920339  0.847024 -0.779549  0.717449  -0.660297  12.237389\n",
       "4  1.299748  1.689346  2.195725  2.853890   3.709339  -3.772851"
      ]
     },
     "execution_count": 4,
     "metadata": {},
     "output_type": "execute_result"
    }
   ],
   "source": [
    "df.head()"
   ]
  },
  {
   "cell_type": "code",
   "execution_count": 6,
   "id": "405b3414",
   "metadata": {},
   "outputs": [
    {
     "data": {
      "image/png": "[encoded data removed]",
      "text/plain": [
       "<Figure size 432x288 with 1 Axes>"
      ]
     },
     "metadata": {
      "needs_background": "light"
     },
     "output_type": "display_data"
    }
   ],
   "source": [
    "sns.scatterplot(x= \"X1\", y= \"y\", data = df);"
   ]
  },
  {
   "cell_type": "markdown",
   "id": "b2e45209",
   "metadata": {},
   "source": [
    "**important :**we need to mormalize the features before training the models. Why? "
   ]
  },
  {
   "cell_type": "code",
   "execution_count": 7,
   "id": "f342b3c2",
   "metadata": {},
   "outputs": [],
   "source": [
    "# to normalize the features import libraries we need\n",
    "\n",
    "from sklearn.preprocessing import StandardScaler"
   ]
  },
  {
   "cell_type": "code",
   "execution_count": 8,
   "id": "467c37b0",
   "metadata": {},
   "outputs": [],
   "source": [
    "scaler = StandardScaler() # creates an empty scaler object to use in scaling the features\n",
    "\n",
    "# Standardize features by removing the mean and scaling to unit variance.\n",
    "# Centering and scaling happen independently on each feature by computing the relevant statistics on the samples\n",
    "#.. in the training set. Mean and standard deviation are then stored to be used on later data using :meth:`transform`."
   ]
  },
  {
   "cell_type": "code",
   "execution_count": 10,
   "id": "2563bf42",
   "metadata": {},
   "outputs": [
    {
     "data": {
      "text/plain": [
       "array([[ 1.68559489e+00,  1.10379599e+00,  9.39692609e-01,\n",
       "         2.85294690e-01,  2.08937746e-01, -4.11600924e-01],\n",
       "       [ 9.55516566e-01, -1.12695401e-01,  1.55823259e-01,\n",
       "        -1.94689457e-01, -4.00857984e-02, -2.06708827e-01],\n",
       "       [ 1.08549235e+00,  5.29405005e-02,  2.35400708e-01,\n",
       "        -1.59197995e-01, -2.69509817e-02,  5.43551414e-01],\n",
       "       [-8.60516108e-01, -1.19138049e-01, -1.64682881e-01,\n",
       "        -1.95879744e-01, -6.73748876e-02,  5.28620598e-01],\n",
       "       [ 1.32329366e+00,  4.13097970e-01,  4.41459769e-01,\n",
       "        -4.95365675e-02,  2.15699452e-02, -4.04102491e-01],\n",
       "       [ 3.70555211e-01, -5.85040325e-01,  1.53240554e-03,\n",
       "        -2.44199973e-01, -5.38533136e-02, -1.24339112e-01],\n",
       "       [-4.56729809e-01, -4.90096100e-01, -3.28678475e-02,\n",
       "        -2.40395588e-01, -5.46356518e-02,  2.99380637e-01],\n",
       "       [-8.43557728e-01, -1.39001590e-01, -1.55924100e-01,\n",
       "        -1.99459909e-01, -6.61623179e-02,  5.57668419e-01],\n",
       "       [-8.31078676e-02, -6.43663686e-01, -6.31569681e-03,\n",
       "        -2.45004450e-01, -5.39351699e-02, -1.73384582e+00],\n",
       "       [-2.15684580e+00,  2.51103005e+00, -2.29013337e+00,\n",
       "         1.47399197e+00, -1.19726888e+00,  2.05020246e+00],\n",
       "       [ 1.00204667e+00, -5.59348788e-02,  1.81893818e-01,\n",
       "        -1.83587398e-01, -3.61676791e-02, -5.97640313e-01],\n",
       "       [ 2.09943350e-02, -6.53975355e-01, -5.87081279e-03,\n",
       "        -2.45024000e-01, -5.39344128e-02, -1.17250914e-01],\n",
       "       [-4.32219759e-01, -5.05758178e-01, -2.90995328e-02,\n",
       "        -2.41236199e-01, -5.44802468e-02, -4.34634196e-01],\n",
       "       [-1.04635429e+00,  1.23147452e-01, -2.83937236e-01,\n",
       "        -1.41313727e-01, -8.81206061e-02, -4.14948443e-01],\n",
       "       [-5.05056793e-01, -4.56916170e-01, -4.14494579e-02,\n",
       "        -2.38336729e-01, -5.50452142e-02, -1.18633835e+00],\n",
       "       [ 1.07013723e+00,  3.22232031e-02,  2.24878116e-01,\n",
       "        -1.64152267e-01, -2.88837341e-02,  1.13482451e-01],\n",
       "       [-1.63949924e+00,  1.19819178e+00, -1.02859337e+00,\n",
       "         3.43769780e-01, -3.53524499e-01,  1.41925670e+00],\n",
       "       [ 1.78679547e-01, -6.42637302e-01, -5.35411839e-03,\n",
       "        -2.45000507e-01, -5.39334621e-02, -3.25337408e-01],\n",
       "       [-4.12070713e-01, -5.18045921e-01, -2.62781704e-02,\n",
       "        -2.41836782e-01, -5.43743007e-02, -7.12682804e-02],\n",
       "       [ 9.49307453e-02, -6.52702749e-01, -5.84094769e-03,\n",
       "        -2.45023561e-01, -5.39344057e-02, -5.27043279e-01],\n",
       "       [ 1.46902303e+00,  6.70308870e-01,  6.12521985e-01,\n",
       "         5.60230207e-02,  7.55943925e-02, -7.14226889e-01],\n",
       "       [ 6.28230149e-01, -4.32045571e-01,  3.66445117e-02,\n",
       "        -2.36545777e-01, -5.24400503e-02,  3.69075872e-01],\n",
       "       [-6.98484467e-01, -2.93576982e-01, -9.37602242e-02,\n",
       "        -2.22694189e-01, -5.89483658e-02,  9.50722160e-02],\n",
       "       [-5.72133279e-01, -4.05808312e-01, -5.61246915e-02,\n",
       "        -2.34426354e-01, -5.59095003e-02, -6.23767422e-01],\n",
       "       [ 9.14373115e-01, -1.60529303e-01,  1.34884544e-01,\n",
       "        -2.03187147e-01, -4.29437857e-02,  3.23356897e-01],\n",
       "       [ 2.04842789e-01, -6.37614938e-01, -4.99022693e-03,\n",
       "        -2.44976004e-01, -5.39320907e-02,  6.38413638e-01],\n",
       "       [-2.41713128e+00,  3.30371883e+00, -3.19985386e+00,\n",
       "         2.44276488e+00, -2.05295536e+00,  3.39129401e+00],\n",
       "       [ 4.48862342e-01, -5.47717775e-01,  8.25452756e-03,\n",
       "        -2.43073437e-01, -5.36963014e-02,  1.83718746e-01],\n",
       "       [ 7.61626088e-01, -3.18774534e-01,  7.29788993e-02,\n",
       "        -2.25704479e-01, -4.97506263e-02,  1.62913394e-01],\n",
       "       [ 7.34479786e-02, -6.53808386e-01, -5.86290820e-03,\n",
       "        -2.45023974e-01, -5.39344122e-02,  2.33943259e-01],\n",
       "       [-2.41512515e-01, -6.00818471e-01, -1.08909229e-02,\n",
       "        -2.44532475e-01, -5.39769267e-02, -3.42762229e-01],\n",
       "       [ 3.53941269e-01, -5.91928976e-01,  4.56940053e-04,\n",
       "        -2.44355647e-01, -5.38719890e-02,  5.38244207e-01],\n",
       "       [ 1.02567889e+00, -2.60239273e-02,  1.96145930e-01,\n",
       "        -1.77292203e-01, -3.38636288e-02,  9.64724496e-01],\n",
       "       [ 3.41732187e+00,  6.77328538e+00,  8.20490869e+00,\n",
       "         9.22018357e+00,  9.58959657e+00, -5.81289994e+00],\n",
       "       [-5.24329221e-01, -4.42833492e-01, -4.53236285e-02,\n",
       "        -2.37348689e-01, -5.52540210e-02, -3.15686004e-01],\n",
       "       [-1.56042895e-01, -6.28007098e-01, -7.60166042e-03,\n",
       "        -2.44905012e-01, -5.39416331e-02, -1.10764815e+00],\n",
       "       [-1.79187392e+00,  1.54854666e+00, -1.33203582e+00,\n",
       "         5.87536539e-01, -5.15882522e-01,  1.50657051e+00],\n",
       "       [ 1.46463122e+00,  6.62152016e-01,  6.06818973e-01,\n",
       "         5.23269052e-02,  7.36095847e-02, -4.99117355e-01],\n",
       "       [ 4.41572486e-01, -5.51530328e-01,  7.50389628e-03,\n",
       "        -2.43210433e-01, -5.37170187e-02, -6.05210932e-02],\n",
       "       [-6.34693881e-01, -3.52845031e-01, -7.30169463e-02,\n",
       "        -2.29428357e-01, -5.71357271e-02,  6.48166613e-01],\n",
       "       [ 1.19791545e+00,  2.14003987e-01,  3.22340861e-01,\n",
       "        -1.15658627e-01, -8.86871958e-03, -2.36392573e-01],\n",
       "       [-1.50067116e+00,  9.05384933e-01, -7.95969467e-01,\n",
       "         1.72352831e-01, -2.48799417e-01, -1.21804129e+00],\n",
       "       [ 8.33671169e-01, -2.47933018e-01,  9.92213530e-02,\n",
       "        -2.16686463e-01, -4.71809505e-02,  1.97969322e-01],\n",
       "       [-5.17842492e-01, -4.47627612e-01, -4.39898046e-02,\n",
       "        -2.37692684e-01, -5.51805117e-02, -2.51600491e-01],\n",
       "       [ 1.57279417e+00,  8.70371614e-01,  7.57778777e-01,\n",
       "         1.53824338e-01,  1.30178041e-01, -1.34488374e+00],\n",
       "       [ 7.34545527e-01, -3.43649703e-01,  6.43762977e-02,\n",
       "        -2.28462558e-01, -5.04833976e-02,  1.34033222e-02],\n",
       "       [ 1.04319097e+00, -3.38861817e-03,  2.07160010e-01,\n",
       "        -1.72324213e-01, -3.20068684e-02,  6.67700191e-01],\n",
       "       [-7.13291294e-02, -6.45540555e-01, -6.20302700e-03,\n",
       "        -2.45010724e-01, -5.39348788e-02,  4.63878121e-01],\n",
       "       [-1.00172231e+00,  6.08431241e-02, -2.51191468e-01,\n",
       "        -1.57269382e-01, -8.16778980e-02,  1.14460462e+00],\n",
       "       [ 1.20224723e+00,  2.20540204e-01,  3.26053555e-01,\n",
       "        -1.13703785e-01, -8.01588228e-03,  1.13090124e+00],\n",
       "       [ 1.37038239e+00,  4.93175854e-01,  4.92729060e-01,\n",
       "        -1.91060887e-02,  3.65370865e-02,  1.18972962e-01],\n",
       "       [-7.36536699e-01, -2.55691785e-01, -1.07962270e-01,\n",
       "        -2.17758114e-01, -6.03701511e-02, -1.42907299e-01],\n",
       "       [-1.21424396e+00,  3.80814651e-01, -4.33056665e-01,\n",
       "        -6.11822496e-02, -1.23858797e-01,  8.49149139e-01],\n",
       "       [ 5.92439002e-01, -4.58482664e-01,  2.92909374e-02,\n",
       "        -2.38442428e-01, -5.28455143e-02,  3.51755155e-01],\n",
       "       [-2.82882087e-03, -6.52864522e-01, -5.89104407e-03,\n",
       "        -2.45023647e-01, -5.39344181e-02, -1.21846082e+00],\n",
       "       [ 2.75318589e-01, -6.19638584e-01, -3.24539937e-03,\n",
       "        -2.44817368e-01, -5.39200203e-02,  5.31672825e-01],\n",
       "       [-9.22799523e-01, -4.29617648e-02, -1.99768489e-01,\n",
       "        -1.80894717e-01, -7.26797854e-02, -7.25288365e-01],\n",
       "       [ 1.11992857e+00,  1.00521942e-01,  2.60152111e-01,\n",
       "        -1.47261968e-01, -2.21813000e-02,  5.56654936e-01],\n",
       "       [-1.18606506e+00,  3.34996414e-01, -4.05010519e-01,\n",
       "        -7.70964911e-02, -1.16376266e-01,  8.05426838e-01],\n",
       "       [ 1.50217343e+00,  7.32691454e-01,  6.56715535e-01,\n",
       "         8.50453998e-02,  9.13871362e-02, -3.15095752e-01],\n",
       "       [-1.78794997e-01, -6.21701310e-01, -8.26018952e-03,\n",
       "        -2.44841202e-01, -5.39467610e-02,  3.08107418e-01],\n",
       "       [-1.79540035e-02, -6.51774558e-01, -5.92079753e-03,\n",
       "        -2.45022893e-01, -5.39344343e-02, -9.49280195e-01],\n",
       "       [-1.28522175e-01, -6.34731016e-01, -6.98212052e-03,\n",
       "        -2.44958021e-01, -5.39378683e-02, -1.05568020e+00],\n",
       "       [-2.09238704e+00,  2.32839328e+00, -2.09531574e+00,\n",
       "         1.28134611e+00, -1.03941534e+00,  2.53891586e+00],\n",
       "       [-1.51820866e+00,  9.40984742e-01, -8.23173558e-01,\n",
       "         1.91622969e-01, -2.60109644e-01,  1.05346185e+00],\n",
       "       [-1.22706935e+00,  4.02011877e-01, -4.46245088e-01,\n",
       "        -5.35760122e-02, -1.27493609e-01,  4.56837810e-01],\n",
       "       [-4.93702150e-01, -4.64986093e-01, -3.92903075e-02,\n",
       "        -2.38872244e-01, -5.49351598e-02, -5.03244688e-01],\n",
       "       [ 3.61310913e-02, -6.54296031e-01, -5.86807898e-03,\n",
       "        -2.45024023e-01, -5.39344127e-02, -4.55783274e-01],\n",
       "       [-4.25936613e-01, -5.09646801e-01, -2.81935446e-02,\n",
       "        -2.41431865e-01, -5.44452325e-02, -5.95386788e-02],\n",
       "       [-3.08706162e-01, -5.72744753e-01, -1.53225917e-02,\n",
       "        -2.43881640e-01, -5.40564066e-02,  2.99524523e-01],\n",
       "       [ 6.43981001e-01, -4.19881067e-01,  4.01813254e-02,\n",
       "        -2.35592509e-01, -5.22271506e-02, -9.38620153e-01],\n",
       "       [ 1.06650476e+00,  2.73672804e-02,  2.22434437e-01,\n",
       "        -1.65292192e-01, -2.93243300e-02, -3.19788247e-01],\n",
       "       [ 1.42012172e-01, -6.48171582e-01, -5.67120121e-03,\n",
       "        -2.45017482e-01, -5.39342207e-02, -5.73593512e-02],\n",
       "       [-1.04689831e+00,  1.23922937e-01, -2.84353366e-01,\n",
       "        -1.41106739e-01, -8.82059146e-02, -8.22620070e-01],\n",
       "       [-6.97273199e-01, -2.94751874e-01, -9.33312232e-02,\n",
       "        -2.22839393e-01, -5.89076438e-02, -1.05787060e+00],\n",
       "       [ 1.04526942e+00, -6.75514908e-04,  2.08493207e-01,\n",
       "        -1.71716943e-01, -3.17776756e-02, -1.68272310e-01],\n",
       "       [-1.67652621e+00,  1.28053875e+00, -1.09753727e+00,\n",
       "         3.97278027e-01, -3.87935235e-01,  8.15271157e-01],\n",
       "       [-1.28371989e+00,  4.98211572e-01, -5.07750562e-01,\n",
       "        -1.71189265e-02, -1.45401731e-01,  9.25472782e-01],\n",
       "       [ 7.81418751e-02, -6.53618272e-01, -5.85999491e-03,\n",
       "        -2.45023933e-01, -5.39344118e-02,  2.41082127e-01],\n",
       "       [ 4.62295257e-01, -5.40510653e-01,  9.71030142e-03,\n",
       "        -2.42800838e-01, -5.36540030e-02,  2.24706167e-01],\n",
       "       [-3.77602354e-01, -5.37836801e-01, -2.19982681e-02,\n",
       "        -2.42695170e-01, -5.42315800e-02,  2.99611210e-02],\n",
       "       [-1.74738895e-01, -6.22874988e-01, -8.13233882e-03,\n",
       "        -2.44854112e-01, -5.39456808e-02,  1.19854218e+00],\n",
       "       [ 2.72588234e-01, -6.20455811e-01, -3.33748077e-03,\n",
       "        -2.44826985e-01, -5.39208526e-02,  1.46966969e-01],\n",
       "       [-8.35963536e-01, -1.47774989e-01, -1.52108537e-01,\n",
       "        -2.00998105e-01, -6.56485129e-02, -6.58477582e-01],\n",
       "       [-9.39622094e-01, -2.15177325e-02, -2.10058908e-01,\n",
       "        -1.76317201e-01, -7.43669938e-02,  4.94589881e-03],\n",
       "       [ 1.19504562e+00,  2.09687186e-01,  3.19896481e-01,\n",
       "        -1.16941652e-01, -9.42671779e-03,  7.28026173e-01],\n",
       "       [ 8.18785906e-01, -2.63125240e-01,  9.33842011e-02,\n",
       "        -2.18765457e-01, -4.77945005e-02,  3.68503301e-01],\n",
       "       [ 5.98590189e-01, -4.54058157e-01,  3.04889930e-02,\n",
       "        -2.38141715e-01, -5.27829733e-02,  1.43162532e-01],\n",
       "       [-1.20452799e+00,  3.64899567e-01, -4.23242894e-01,\n",
       "        -6.67917531e-02, -1.21202073e-01,  1.30724335e+00],\n",
       "       [-2.35397995e-01, -6.03080417e-01, -1.05759154e-02,\n",
       "        -2.44573141e-01, -5.39725766e-02,  3.65821200e-02],\n",
       "       [ 3.08936773e-01, -6.08778286e-01, -1.92264537e-03,\n",
       "        -2.44667799e-01, -5.39059859e-02,  5.37161027e-01],\n",
       "       [-6.93459841e-01, -2.98438204e-01, -9.19897453e-02,\n",
       "        -2.23291909e-01, -5.87811657e-02, -3.00093235e-01],\n",
       "       [ 5.16942052e-01, -5.08761661e-01,  1.66628305e-02,\n",
       "        -2.41387783e-01, -5.34157451e-02,  1.15380042e-01],\n",
       "       [ 1.95113458e+00,  1.71889780e+00,  1.47706687e+00,\n",
       "         7.21280262e-01,  5.02566374e-01, -4.74569100e-01],\n",
       "       [-6.47902319e-01, -3.41009326e-01, -7.70095112e-02,\n",
       "        -2.28179874e-01, -5.74592150e-02, -5.88572872e-01],\n",
       "       [-1.81692751e-01, -6.20849653e-01, -8.35441657e-03,\n",
       "        -2.44831538e-01, -5.39475822e-02, -1.15362468e+00],\n",
       "       [ 3.14890328e-02, -6.54229510e-01, -5.86844345e-03,\n",
       "        -2.45024021e-01, -5.39344127e-02, -1.06214500e+00],\n",
       "       [-4.37793425e-01, -5.02265495e-01, -2.99234511e-02,\n",
       "        -2.41056033e-01, -5.45128904e-02, -7.37046095e-01],\n",
       "       [ 1.98477473e-01, -6.38919136e-01, -5.09083408e-03,\n",
       "        -2.44983199e-01, -5.39325176e-02,  3.31921765e-01],\n",
       "       [-3.51125702e-01, -5.51985290e-01, -1.91511180e-02,\n",
       "        -2.43226448e-01, -5.41494096e-02, -3.64577263e-01]])"
      ]
     },
     "execution_count": 10,
     "metadata": {},
     "output_type": "execute_result"
    }
   ],
   "source": [
    "df_sc = scaler.fit_transform(df) # to standardize all df\n",
    "df_sc"
   ]
  },
  {
   "cell_type": "code",
   "execution_count": 11,
   "id": "cc852a11",
   "metadata": {},
   "outputs": [
    {
     "data": {
      "text/plain": [
       "array([ 1.68559489,  1.10379599,  0.93969261,  0.28529469,  0.20893775,\n",
       "       -0.41160092])"
      ]
     },
     "execution_count": 11,
     "metadata": {},
     "output_type": "execute_result"
    }
   ],
   "source": [
    "df_sc[0]"
   ]
  },
  {
   "cell_type": "code",
   "execution_count": 12,
   "id": "c0a778af",
   "metadata": {},
   "outputs": [
    {
     "data": {
      "text/html": [
       "<div>\n",
       "<style scoped>\n",
       "    .dataframe tbody tr th:only-of-type {\n",
       "        vertical-align: middle;\n",
       "    }\n",
       "\n",
       "    .dataframe tbody tr th {\n",
       "        vertical-align: top;\n",
       "    }\n",
       "\n",
       "    .dataframe thead th {\n",
       "        text-align: right;\n",
       "    }\n",
       "</style>\n",
       "<table border=\"1\" class=\"dataframe\">\n",
       "  <thead>\n",
       "    <tr style=\"text-align: right;\">\n",
       "      <th></th>\n",
       "      <th>X1</th>\n",
       "      <th>X2</th>\n",
       "      <th>X3</th>\n",
       "      <th>X4</th>\n",
       "      <th>X5</th>\n",
       "      <th>y</th>\n",
       "    </tr>\n",
       "  </thead>\n",
       "  <tbody>\n",
       "    <tr>\n",
       "      <th>count</th>\n",
       "      <td>100.000000</td>\n",
       "      <td>100.000000</td>\n",
       "      <td>100.000000</td>\n",
       "      <td>1.000000e+02</td>\n",
       "      <td>1.000000e+02</td>\n",
       "      <td>100.000000</td>\n",
       "    </tr>\n",
       "    <tr>\n",
       "      <th>mean</th>\n",
       "      <td>-0.045528</td>\n",
       "      <td>1.035573</td>\n",
       "      <td>0.028803</td>\n",
       "      <td>3.577067e+00</td>\n",
       "      <td>2.649662e+00</td>\n",
       "      <td>3.163589</td>\n",
       "    </tr>\n",
       "    <tr>\n",
       "      <th>std</th>\n",
       "      <td>1.021734</td>\n",
       "      <td>1.590583</td>\n",
       "      <td>4.933266</td>\n",
       "      <td>1.467239e+01</td>\n",
       "      <td>4.937498e+01</td>\n",
       "      <td>17.251525</td>\n",
       "    </tr>\n",
       "    <tr>\n",
       "      <th>min</th>\n",
       "      <td>-2.502813</td>\n",
       "      <td>0.000077</td>\n",
       "      <td>-15.677801</td>\n",
       "      <td>5.990000e-09</td>\n",
       "      <td>-9.820688e+01</td>\n",
       "      <td>-96.615135</td>\n",
       "    </tr>\n",
       "    <tr>\n",
       "      <th>25%</th>\n",
       "      <td>-0.715772</td>\n",
       "      <td>0.106957</td>\n",
       "      <td>-0.367584</td>\n",
       "      <td>1.146202e-02</td>\n",
       "      <td>-1.894007e-01</td>\n",
       "      <td>-4.740569</td>\n",
       "    </tr>\n",
       "    <tr>\n",
       "      <th>50%</th>\n",
       "      <td>-0.056092</td>\n",
       "      <td>0.513483</td>\n",
       "      <td>-0.000186</td>\n",
       "      <td>2.639740e-01</td>\n",
       "      <td>-6.630000e-07</td>\n",
       "      <td>3.535766</td>\n",
       "    </tr>\n",
       "    <tr>\n",
       "      <th>75%</th>\n",
       "      <td>0.708103</td>\n",
       "      <td>1.265628</td>\n",
       "      <td>0.355353</td>\n",
       "      <td>1.605267e+00</td>\n",
       "      <td>1.785395e-01</td>\n",
       "      <td>12.250487</td>\n",
       "    </tr>\n",
       "    <tr>\n",
       "      <th>max</th>\n",
       "      <td>3.428563</td>\n",
       "      <td>11.755044</td>\n",
       "      <td>40.302907</td>\n",
       "      <td>1.381811e+02</td>\n",
       "      <td>4.737624e+02</td>\n",
       "      <td>61.375324</td>\n",
       "    </tr>\n",
       "  </tbody>\n",
       "</table>\n",
       "</div>"
      ],
      "text/plain": [
       "               X1          X2          X3            X4            X5  \\\n",
       "count  100.000000  100.000000  100.000000  1.000000e+02  1.000000e+02   \n",
       "mean    -0.045528    1.035573    0.028803  3.577067e+00  2.649662e+00   \n",
       "std      1.021734    1.590583    4.933266  1.467239e+01  4.937498e+01   \n",
       "min     -2.502813    0.000077  -15.677801  5.990000e-09 -9.820688e+01   \n",
       "25%     -0.715772    0.106957   -0.367584  1.146202e-02 -1.894007e-01   \n",
       "50%     -0.056092    0.513483   -0.000186  2.639740e-01 -6.630000e-07   \n",
       "75%      0.708103    1.265628    0.355353  1.605267e+00  1.785395e-01   \n",
       "max      3.428563   11.755044   40.302907  1.381811e+02  4.737624e+02   \n",
       "\n",
       "                y  \n",
       "count  100.000000  \n",
       "mean     3.163589  \n",
       "std     17.251525  \n",
       "min    -96.615135  \n",
       "25%     -4.740569  \n",
       "50%      3.535766  \n",
       "75%     12.250487  \n",
       "max     61.375324  "
      ]
     },
     "execution_count": 12,
     "metadata": {},
     "output_type": "execute_result"
    }
   ],
   "source": [
    "df.describe()"
   ]
  },
  {
   "cell_type": "code",
   "execution_count": 13,
   "id": "3c73743b",
   "metadata": {},
   "outputs": [
    {
     "data": {
      "text/plain": [
       "-0.4095377655018904"
      ]
     },
     "execution_count": 13,
     "metadata": {},
     "output_type": "execute_result"
    }
   ],
   "source": [
    "# checking the first observation for y1\n",
    "\n",
    "(-3.901562 - 3.163589)/ 17.251525  # (yi -y.mean())/y.std()"
   ]
  },
  {
   "cell_type": "code",
   "execution_count": 14,
   "id": "d1e6ba24",
   "metadata": {},
   "outputs": [
    {
     "data": {
      "text/plain": [
       "Index(['X1', 'X2', 'X3', 'X4', 'X5', 'y'], dtype='object')"
      ]
     },
     "execution_count": 14,
     "metadata": {},
     "output_type": "execute_result"
    }
   ],
   "source": [
    "df.columns"
   ]
  },
  {
   "cell_type": "code",
   "execution_count": 16,
   "id": "2e2c56b9",
   "metadata": {},
   "outputs": [
    {
     "data": {
      "text/html": [
       "<div>\n",
       "<style scoped>\n",
       "    .dataframe tbody tr th:only-of-type {\n",
       "        vertical-align: middle;\n",
       "    }\n",
       "\n",
       "    .dataframe tbody tr th {\n",
       "        vertical-align: top;\n",
       "    }\n",
       "\n",
       "    .dataframe thead th {\n",
       "        text-align: right;\n",
       "    }\n",
       "</style>\n",
       "<table border=\"1\" class=\"dataframe\">\n",
       "  <thead>\n",
       "    <tr style=\"text-align: right;\">\n",
       "      <th></th>\n",
       "      <th>X1</th>\n",
       "      <th>X2</th>\n",
       "      <th>X3</th>\n",
       "      <th>X4</th>\n",
       "      <th>X5</th>\n",
       "      <th>y</th>\n",
       "    </tr>\n",
       "  </thead>\n",
       "  <tbody>\n",
       "    <tr>\n",
       "      <th>0</th>\n",
       "      <td>1.685595</td>\n",
       "      <td>1.103796</td>\n",
       "      <td>0.939693</td>\n",
       "      <td>0.285295</td>\n",
       "      <td>0.208938</td>\n",
       "      <td>-0.411601</td>\n",
       "    </tr>\n",
       "    <tr>\n",
       "      <th>1</th>\n",
       "      <td>0.955517</td>\n",
       "      <td>-0.112695</td>\n",
       "      <td>0.155823</td>\n",
       "      <td>-0.194689</td>\n",
       "      <td>-0.040086</td>\n",
       "      <td>-0.206709</td>\n",
       "    </tr>\n",
       "    <tr>\n",
       "      <th>2</th>\n",
       "      <td>1.085492</td>\n",
       "      <td>0.052941</td>\n",
       "      <td>0.235401</td>\n",
       "      <td>-0.159198</td>\n",
       "      <td>-0.026951</td>\n",
       "      <td>0.543551</td>\n",
       "    </tr>\n",
       "    <tr>\n",
       "      <th>3</th>\n",
       "      <td>-0.860516</td>\n",
       "      <td>-0.119138</td>\n",
       "      <td>-0.164683</td>\n",
       "      <td>-0.195880</td>\n",
       "      <td>-0.067375</td>\n",
       "      <td>0.528621</td>\n",
       "    </tr>\n",
       "    <tr>\n",
       "      <th>4</th>\n",
       "      <td>1.323294</td>\n",
       "      <td>0.413098</td>\n",
       "      <td>0.441460</td>\n",
       "      <td>-0.049537</td>\n",
       "      <td>0.021570</td>\n",
       "      <td>-0.404102</td>\n",
       "    </tr>\n",
       "  </tbody>\n",
       "</table>\n",
       "</div>"
      ],
      "text/plain": [
       "         X1        X2        X3        X4        X5         y\n",
       "0  1.685595  1.103796  0.939693  0.285295  0.208938 -0.411601\n",
       "1  0.955517 -0.112695  0.155823 -0.194689 -0.040086 -0.206709\n",
       "2  1.085492  0.052941  0.235401 -0.159198 -0.026951  0.543551\n",
       "3 -0.860516 -0.119138 -0.164683 -0.195880 -0.067375  0.528621\n",
       "4  1.323294  0.413098  0.441460 -0.049537  0.021570 -0.404102"
      ]
     },
     "execution_count": 16,
     "metadata": {},
     "output_type": "execute_result"
    }
   ],
   "source": [
    "df_sc = pd.DataFrame(df_sc, columns=df.columns)\n",
    "df_sc.head()"
   ]
  },
  {
   "cell_type": "code",
   "execution_count": 18,
   "id": "54583e29",
   "metadata": {},
   "outputs": [
    {
     "data": {
      "image/png": "[encoded data removed]",
      "text/plain": [
       "<Figure size 432x288 with 1 Axes>"
      ]
     },
     "metadata": {
      "needs_background": "light"
     },
     "output_type": "display_data"
    }
   ],
   "source": [
    "sns.scatterplot(x=\"X1\", y= \"y\", data = df_sc);\n",
    "\n",
    "# Standardization doesn't change the pattern. The only sclaes was changed."
   ]
  },
  {
   "cell_type": "markdown",
   "id": "2f7bfb6c",
   "metadata": {},
   "source": [
    "## Splitting the data"
   ]
  },
  {
   "cell_type": "code",
   "execution_count": 22,
   "id": "e9dcb147",
   "metadata": {},
   "outputs": [
    {
     "data": {
      "text/html": [
       "<div>\n",
       "<style scoped>\n",
       "    .dataframe tbody tr th:only-of-type {\n",
       "        vertical-align: middle;\n",
       "    }\n",
       "\n",
       "    .dataframe tbody tr th {\n",
       "        vertical-align: top;\n",
       "    }\n",
       "\n",
       "    .dataframe thead th {\n",
       "        text-align: right;\n",
       "    }\n",
       "</style>\n",
       "<table border=\"1\" class=\"dataframe\">\n",
       "  <thead>\n",
       "    <tr style=\"text-align: right;\">\n",
       "      <th></th>\n",
       "      <th>X1</th>\n",
       "      <th>X2</th>\n",
       "      <th>X3</th>\n",
       "      <th>X4</th>\n",
       "      <th>X5</th>\n",
       "    </tr>\n",
       "  </thead>\n",
       "  <tbody>\n",
       "    <tr>\n",
       "      <th>37</th>\n",
       "      <td>1.464631</td>\n",
       "      <td>0.662152</td>\n",
       "      <td>0.606819</td>\n",
       "      <td>0.052327</td>\n",
       "      <td>0.073610</td>\n",
       "    </tr>\n",
       "    <tr>\n",
       "      <th>44</th>\n",
       "      <td>1.572794</td>\n",
       "      <td>0.870372</td>\n",
       "      <td>0.757779</td>\n",
       "      <td>0.153824</td>\n",
       "      <td>0.130178</td>\n",
       "    </tr>\n",
       "    <tr>\n",
       "      <th>55</th>\n",
       "      <td>0.275319</td>\n",
       "      <td>-0.619639</td>\n",
       "      <td>-0.003245</td>\n",
       "      <td>-0.244817</td>\n",
       "      <td>-0.053920</td>\n",
       "    </tr>\n",
       "    <tr>\n",
       "      <th>66</th>\n",
       "      <td>-0.493702</td>\n",
       "      <td>-0.464986</td>\n",
       "      <td>-0.039290</td>\n",
       "      <td>-0.238872</td>\n",
       "      <td>-0.054935</td>\n",
       "    </tr>\n",
       "    <tr>\n",
       "      <th>82</th>\n",
       "      <td>0.272588</td>\n",
       "      <td>-0.620456</td>\n",
       "      <td>-0.003337</td>\n",
       "      <td>-0.244827</td>\n",
       "      <td>-0.053921</td>\n",
       "    </tr>\n",
       "  </tbody>\n",
       "</table>\n",
       "</div>"
      ],
      "text/plain": [
       "          X1        X2        X3        X4        X5\n",
       "37  1.464631  0.662152  0.606819  0.052327  0.073610\n",
       "44  1.572794  0.870372  0.757779  0.153824  0.130178\n",
       "55  0.275319 -0.619639 -0.003245 -0.244817 -0.053920\n",
       "66 -0.493702 -0.464986 -0.039290 -0.238872 -0.054935\n",
       "82  0.272588 -0.620456 -0.003337 -0.244827 -0.053921"
      ]
     },
     "execution_count": 22,
     "metadata": {},
     "output_type": "execute_result"
    }
   ],
   "source": [
    "y = df_sc[\"y\"]\n",
    "X = df_sc.drop(\"y\", axis=1)\n",
    "\n",
    "from sklearn.model_selection import train_test_split\n",
    "X_train, X_test, y_train, y_test = train_test_split(X, y, test_size=0.2, random_state=rand_state)\n",
    "X_train.head()"
   ]
  },
  {
   "cell_type": "markdown",
   "id": "26f58353",
   "metadata": {},
   "source": [
    "As we can see from the table above, the variables are highly correlated with each other.\n",
    "\n",
    "Let's first run a linear regression (using statsmodels.api) and see the results as a benchmark."
   ]
  },
  {
   "cell_type": "code",
   "execution_count": 23,
   "id": "0d7eb365",
   "metadata": {},
   "outputs": [],
   "source": [
    "X_test_wc = sm.add_constant(X_test)  # wc(with constant)\n",
    "X_train_wc = sm.add_constant(X_train)  # wc(with constant)"
   ]
  },
  {
   "cell_type": "code",
   "execution_count": 24,
   "id": "818c8f56",
   "metadata": {},
   "outputs": [
    {
     "data": {
      "text/html": [
       "<table class=\"simpletable\">\n",
       "<caption>OLS Regression Results</caption>\n",
       "<tr>\n",
       "  <th>Dep. Variable:</th>            <td>y</td>        <th>  R-squared:         </th> <td>   0.451</td>\n",
       "</tr>\n",
       "<tr>\n",
       "  <th>Model:</th>                   <td>OLS</td>       <th>  Adj. R-squared:    </th> <td>   0.414</td>\n",
       "</tr>\n",
       "<tr>\n",
       "  <th>Method:</th>             <td>Least Squares</td>  <th>  F-statistic:       </th> <td>   12.17</td>\n",
       "</tr>\n",
       "<tr>\n",
       "  <th>Date:</th>             <td>Wed, 17 Aug 2022</td> <th>  Prob (F-statistic):</th> <td>1.28e-08</td>\n",
       "</tr>\n",
       "<tr>\n",
       "  <th>Time:</th>                 <td>12:33:38</td>     <th>  Log-Likelihood:    </th> <td> -65.981</td>\n",
       "</tr>\n",
       "<tr>\n",
       "  <th>No. Observations:</th>      <td>    80</td>      <th>  AIC:               </th> <td>   144.0</td>\n",
       "</tr>\n",
       "<tr>\n",
       "  <th>Df Residuals:</th>          <td>    74</td>      <th>  BIC:               </th> <td>   158.3</td>\n",
       "</tr>\n",
       "<tr>\n",
       "  <th>Df Model:</th>              <td>     5</td>      <th>                     </th>     <td> </td>   \n",
       "</tr>\n",
       "<tr>\n",
       "  <th>Covariance Type:</th>      <td>nonrobust</td>    <th>                     </th>     <td> </td>   \n",
       "</tr>\n",
       "</table>\n",
       "<table class=\"simpletable\">\n",
       "<tr>\n",
       "    <td></td>       <th>coef</th>     <th>std err</th>      <th>t</th>      <th>P>|t|</th>  <th>[0.025</th>    <th>0.975]</th>  \n",
       "</tr>\n",
       "<tr>\n",
       "  <th>const</th> <td>    0.0870</td> <td>    0.173</td> <td>    0.504</td> <td> 0.616</td> <td>   -0.257</td> <td>    0.431</td>\n",
       "</tr>\n",
       "<tr>\n",
       "  <th>X1</th>    <td>    0.5370</td> <td>    0.199</td> <td>    2.705</td> <td> 0.008</td> <td>    0.141</td> <td>    0.933</td>\n",
       "</tr>\n",
       "<tr>\n",
       "  <th>X2</th>    <td>    0.1037</td> <td>    0.302</td> <td>    0.343</td> <td> 0.732</td> <td>   -0.498</td> <td>    0.705</td>\n",
       "</tr>\n",
       "<tr>\n",
       "  <th>X3</th>    <td>   -2.1339</td> <td>    0.839</td> <td>   -2.543</td> <td> 0.013</td> <td>   -3.806</td> <td>   -0.462</td>\n",
       "</tr>\n",
       "<tr>\n",
       "  <th>X4</th>    <td>    0.2535</td> <td>    0.861</td> <td>    0.294</td> <td> 0.769</td> <td>   -1.463</td> <td>    1.970</td>\n",
       "</tr>\n",
       "<tr>\n",
       "  <th>X5</th>    <td>    1.5933</td> <td>    1.669</td> <td>    0.954</td> <td> 0.343</td> <td>   -1.733</td> <td>    4.920</td>\n",
       "</tr>\n",
       "</table>\n",
       "<table class=\"simpletable\">\n",
       "<tr>\n",
       "  <th>Omnibus:</th>       <td>11.757</td> <th>  Durbin-Watson:     </th> <td>   2.213</td>\n",
       "</tr>\n",
       "<tr>\n",
       "  <th>Prob(Omnibus):</th> <td> 0.003</td> <th>  Jarque-Bera (JB):  </th> <td>  14.171</td>\n",
       "</tr>\n",
       "<tr>\n",
       "  <th>Skew:</th>          <td>-0.701</td> <th>  Prob(JB):          </th> <td>0.000837</td>\n",
       "</tr>\n",
       "<tr>\n",
       "  <th>Kurtosis:</th>      <td> 4.512</td> <th>  Cond. No.          </th> <td>    33.9</td>\n",
       "</tr>\n",
       "</table><br/><br/>Notes:<br/>[1] Standard Errors assume that the covariance matrix of the errors is correctly specified."
      ],
      "text/plain": [
       "<class 'statsmodels.iolib.summary.Summary'>\n",
       "\"\"\"\n",
       "                            OLS Regression Results                            \n",
       "==============================================================================\n",
       "Dep. Variable:                      y   R-squared:                       0.451\n",
       "Model:                            OLS   Adj. R-squared:                  0.414\n",
       "Method:                 Least Squares   F-statistic:                     12.17\n",
       "Date:                Wed, 17 Aug 2022   Prob (F-statistic):           1.28e-08\n",
       "Time:                        12:33:38   Log-Likelihood:                -65.981\n",
       "No. Observations:                  80   AIC:                             144.0\n",
       "Df Residuals:                      74   BIC:                             158.3\n",
       "Df Model:                           5                                         \n",
       "Covariance Type:            nonrobust                                         \n",
       "==============================================================================\n",
       "                 coef    std err          t      P>|t|      [0.025      0.975]\n",
       "------------------------------------------------------------------------------\n",
       "const          0.0870      0.173      0.504      0.616      -0.257       0.431\n",
       "X1             0.5370      0.199      2.705      0.008       0.141       0.933\n",
       "X2             0.1037      0.302      0.343      0.732      -0.498       0.705\n",
       "X3            -2.1339      0.839     -2.543      0.013      -3.806      -0.462\n",
       "X4             0.2535      0.861      0.294      0.769      -1.463       1.970\n",
       "X5             1.5933      1.669      0.954      0.343      -1.733       4.920\n",
       "==============================================================================\n",
       "Omnibus:                       11.757   Durbin-Watson:                   2.213\n",
       "Prob(Omnibus):                  0.003   Jarque-Bera (JB):               14.171\n",
       "Skew:                          -0.701   Prob(JB):                     0.000837\n",
       "Kurtosis:                       4.512   Cond. No.                         33.9\n",
       "==============================================================================\n",
       "\n",
       "Notes:\n",
       "[1] Standard Errors assume that the covariance matrix of the errors is correctly specified.\n",
       "\"\"\""
      ]
     },
     "execution_count": 24,
     "metadata": {},
     "output_type": "execute_result"
    }
   ],
   "source": [
    "model = sm.OLS(y_train, X_train_wc).fit()\n",
    "model.summary()"
   ]
  },
  {
   "cell_type": "markdown",
   "id": "52f3d013",
   "metadata": {},
   "source": [
    "## Training the models\n",
    "\n",
    "In this section we will train 4 different models :\n",
    "\n",
    "1. Linear regression (model_linear)\n",
    "2. Ridge regression (model_ridge)\n",
    "3. Lasso regression (model_lasso)\n",
    "4. Elastic Net regression (model_net)"
   ]
  },
  {
   "cell_type": "code",
   "execution_count": 25,
   "id": "4e4c3813",
   "metadata": {},
   "outputs": [],
   "source": [
    "from sklearn.linear_model import LinearRegression, Ridge, RidgeCV, Lasso, LassoCV, ElasticNet, ElasticNetCV"
   ]
  },
  {
   "cell_type": "code",
   "execution_count": 26,
   "id": "b5d3a9b5",
   "metadata": {},
   "outputs": [],
   "source": [
    "model_linear = LinearRegression()\n",
    "model_ridge = Ridge(alpha=0)\n",
    "model_lasso = Lasso(alpha=0)\n",
    "model_net = ElasticNet(alpha=0)"
   ]
  },
  {
   "cell_type": "code",
   "execution_count": 27,
   "id": "1a6469ce",
   "metadata": {},
   "outputs": [],
   "source": [
    "y_hat_linear = model_linear.fit(X_train, y_train).predict(X_test)\n",
    "y_hat_ridge = model_ridge.fit(X_train, y_train).predict(X_test)\n",
    "y_hat_lasso = model_lasso.fit(X_train, y_train).predict(X_test)\n",
    "y_hat_net = model_net.fit(X_train, y_train).predict(X_test)"
   ]
  },
  {
   "cell_type": "code",
   "execution_count": 28,
   "id": "804b6904",
   "metadata": {
    "scrolled": true
   },
   "outputs": [
    {
     "data": {
      "text/html": [
       "<div>\n",
       "<style scoped>\n",
       "    .dataframe tbody tr th:only-of-type {\n",
       "        vertical-align: middle;\n",
       "    }\n",
       "\n",
       "    .dataframe tbody tr th {\n",
       "        vertical-align: top;\n",
       "    }\n",
       "\n",
       "    .dataframe thead th {\n",
       "        text-align: right;\n",
       "    }\n",
       "</style>\n",
       "<table border=\"1\" class=\"dataframe\">\n",
       "  <thead>\n",
       "    <tr style=\"text-align: right;\">\n",
       "      <th></th>\n",
       "      <th>y_test</th>\n",
       "      <th>y_hat_linear</th>\n",
       "      <th>y_hat_ridge</th>\n",
       "      <th>y_hat_lasso</th>\n",
       "      <th>y_hat_net</th>\n",
       "    </tr>\n",
       "  </thead>\n",
       "  <tbody>\n",
       "    <tr>\n",
       "      <th>88</th>\n",
       "      <td>1.307243</td>\n",
       "      <td>0.171067</td>\n",
       "      <td>0.171067</td>\n",
       "      <td>0.171067</td>\n",
       "      <td>0.171067</td>\n",
       "    </tr>\n",
       "    <tr>\n",
       "      <th>4</th>\n",
       "      <td>-0.404102</td>\n",
       "      <td>-0.079686</td>\n",
       "      <td>-0.079686</td>\n",
       "      <td>-0.079686</td>\n",
       "      <td>-0.079686</td>\n",
       "    </tr>\n",
       "    <tr>\n",
       "      <th>62</th>\n",
       "      <td>-1.055680</td>\n",
       "      <td>-0.180921</td>\n",
       "      <td>-0.180921</td>\n",
       "      <td>-0.180921</td>\n",
       "      <td>-0.180921</td>\n",
       "    </tr>\n",
       "    <tr>\n",
       "      <th>63</th>\n",
       "      <td>2.538916</td>\n",
       "      <td>2.344482</td>\n",
       "      <td>2.344482</td>\n",
       "      <td>2.344482</td>\n",
       "      <td>2.344482</td>\n",
       "    </tr>\n",
       "    <tr>\n",
       "      <th>48</th>\n",
       "      <td>1.144605</td>\n",
       "      <td>-0.078630</td>\n",
       "      <td>-0.078630</td>\n",
       "      <td>-0.078630</td>\n",
       "      <td>-0.078630</td>\n",
       "    </tr>\n",
       "  </tbody>\n",
       "</table>\n",
       "</div>"
      ],
      "text/plain": [
       "      y_test  y_hat_linear  y_hat_ridge  y_hat_lasso  y_hat_net\n",
       "88  1.307243      0.171067     0.171067     0.171067   0.171067\n",
       "4  -0.404102     -0.079686    -0.079686    -0.079686  -0.079686\n",
       "62 -1.055680     -0.180921    -0.180921    -0.180921  -0.180921\n",
       "63  2.538916      2.344482     2.344482     2.344482   2.344482\n",
       "48  1.144605     -0.078630    -0.078630    -0.078630  -0.078630"
      ]
     },
     "execution_count": 28,
     "metadata": {},
     "output_type": "execute_result"
    }
   ],
   "source": [
    "df_predictions = pd.DataFrame({\"y_test\" : y_test,\n",
    "                              \"y_hat_linear\" : y_hat_linear,\n",
    "                              \"y_hat_ridge\" : y_hat_ridge,\n",
    "                              \"y_hat_lasso\" : y_hat_lasso,\n",
    "                              \"y_hat_net\" : y_hat_net})\n",
    "\n",
    "df_predictions.head()"
   ]
  },
  {
   "cell_type": "markdown",
   "id": "ffa0eef0",
   "metadata": {},
   "source": [
    "## coefficients"
   ]
  },
  {
   "cell_type": "code",
   "execution_count": 29,
   "id": "f57cd868",
   "metadata": {},
   "outputs": [
    {
     "data": {
      "text/plain": [
       "Index(['X1', 'X2', 'X3', 'X4', 'X5'], dtype='object')"
      ]
     },
     "execution_count": 29,
     "metadata": {},
     "output_type": "execute_result"
    }
   ],
   "source": [
    "df.drop(\"y\", axis=1, inplace=False).columns"
   ]
  },
  {
   "cell_type": "code",
   "execution_count": 30,
   "id": "3d3c830a",
   "metadata": {
    "scrolled": true
   },
   "outputs": [
    {
     "data": {
      "text/html": [
       "<div>\n",
       "<style scoped>\n",
       "    .dataframe tbody tr th:only-of-type {\n",
       "        vertical-align: middle;\n",
       "    }\n",
       "\n",
       "    .dataframe tbody tr th {\n",
       "        vertical-align: top;\n",
       "    }\n",
       "\n",
       "    .dataframe thead th {\n",
       "        text-align: right;\n",
       "    }\n",
       "</style>\n",
       "<table border=\"1\" class=\"dataframe\">\n",
       "  <thead>\n",
       "    <tr style=\"text-align: right;\">\n",
       "      <th></th>\n",
       "      <th>Features</th>\n",
       "      <th>model_lin</th>\n",
       "      <th>model_ridge</th>\n",
       "      <th>model_lasso</th>\n",
       "      <th>model_net</th>\n",
       "    </tr>\n",
       "  </thead>\n",
       "  <tbody>\n",
       "    <tr>\n",
       "      <th>0</th>\n",
       "      <td>X1</td>\n",
       "      <td>0.537047</td>\n",
       "      <td>0.537047</td>\n",
       "      <td>0.537047</td>\n",
       "      <td>0.537047</td>\n",
       "    </tr>\n",
       "    <tr>\n",
       "      <th>1</th>\n",
       "      <td>X2</td>\n",
       "      <td>0.103655</td>\n",
       "      <td>0.103655</td>\n",
       "      <td>0.103655</td>\n",
       "      <td>0.103655</td>\n",
       "    </tr>\n",
       "    <tr>\n",
       "      <th>2</th>\n",
       "      <td>X3</td>\n",
       "      <td>-2.133872</td>\n",
       "      <td>-2.133872</td>\n",
       "      <td>-2.133872</td>\n",
       "      <td>-2.133872</td>\n",
       "    </tr>\n",
       "    <tr>\n",
       "      <th>3</th>\n",
       "      <td>X4</td>\n",
       "      <td>0.253492</td>\n",
       "      <td>0.253492</td>\n",
       "      <td>0.253492</td>\n",
       "      <td>0.253492</td>\n",
       "    </tr>\n",
       "    <tr>\n",
       "      <th>4</th>\n",
       "      <td>X5</td>\n",
       "      <td>1.593336</td>\n",
       "      <td>1.593336</td>\n",
       "      <td>1.593336</td>\n",
       "      <td>1.593336</td>\n",
       "    </tr>\n",
       "  </tbody>\n",
       "</table>\n",
       "</div>"
      ],
      "text/plain": [
       "  Features  model_lin  model_ridge  model_lasso  model_net\n",
       "0       X1   0.537047     0.537047     0.537047   0.537047\n",
       "1       X2   0.103655     0.103655     0.103655   0.103655\n",
       "2       X3  -2.133872    -2.133872    -2.133872  -2.133872\n",
       "3       X4   0.253492     0.253492     0.253492   0.253492\n",
       "4       X5   1.593336     1.593336     1.593336   1.593336"
      ]
     },
     "execution_count": 30,
     "metadata": {},
     "output_type": "execute_result"
    }
   ],
   "source": [
    "coefficients = pd.DataFrame({\"Features\": df.drop(\"y\", axis=1, inplace=False).columns})\n",
    "coefficients[\"model_lin\"] = model_linear.coef_\n",
    "coefficients[\"model_ridge\"] = model_ridge.coef_\n",
    "coefficients[\"model_lasso\"] = model_lasso.coef_\n",
    "coefficients[\"model_net\"] = model_net.coef_\n",
    "coefficients"
   ]
  },
  {
   "cell_type": "markdown",
   "id": "9944acda",
   "metadata": {},
   "source": [
    "## performence in the test set"
   ]
  },
  {
   "cell_type": "code",
   "execution_count": 31,
   "id": "16da11b5",
   "metadata": {},
   "outputs": [
    {
     "data": {
      "text/plain": [
       "2.037"
      ]
     },
     "execution_count": 31,
     "metadata": {},
     "output_type": "execute_result"
    }
   ],
   "source": [
    "MSE_test = np.mean(np.square(df_predictions[\"y_test\"] - df_predictions[\"y_hat_linear\"]))\n",
    "RMSE_test = np.sqrt(MSE_test)\n",
    "np.round(RMSE_test, 3)"
   ]
  },
  {
   "cell_type": "code",
   "execution_count": 32,
   "id": "4c657884",
   "metadata": {},
   "outputs": [
    {
     "data": {
      "text/plain": [
       "2.037"
      ]
     },
     "execution_count": 32,
     "metadata": {},
     "output_type": "execute_result"
    }
   ],
   "source": [
    "MSE_test = np.mean(np.square(df_predictions[\"y_test\"] - df_predictions[\"y_hat_ridge\"]))\n",
    "RMSE_test = np.sqrt(MSE_test)\n",
    "np.round(RMSE_test, 3)"
   ]
  },
  {
   "cell_type": "code",
   "execution_count": 33,
   "id": "6b309325",
   "metadata": {},
   "outputs": [
    {
     "data": {
      "text/plain": [
       "2.037"
      ]
     },
     "execution_count": 33,
     "metadata": {},
     "output_type": "execute_result"
    }
   ],
   "source": [
    "MSE_test = np.mean(np.square(df_predictions[\"y_test\"] - df_predictions[\"y_hat_lasso\"]))\n",
    "RMSE_test = np.sqrt(MSE_test)\n",
    "np.round(RMSE_test, 3)"
   ]
  },
  {
   "cell_type": "code",
   "execution_count": 34,
   "id": "63856c43",
   "metadata": {
    "scrolled": true
   },
   "outputs": [
    {
     "data": {
      "text/plain": [
       "2.037"
      ]
     },
     "execution_count": 34,
     "metadata": {},
     "output_type": "execute_result"
    }
   ],
   "source": [
    "MSE_test = np.mean(np.square(df_predictions[\"y_test\"] - df_predictions[\"y_hat_net\"]))\n",
    "RMSE_test = np.sqrt(MSE_test)\n",
    "np.round(RMSE_test, 3)"
   ]
  },
  {
   "cell_type": "markdown",
   "id": "54aa1a3b",
   "metadata": {},
   "source": [
    "## plotting the regression coefficients vs alphas"
   ]
  },
  {
   "cell_type": "markdown",
   "id": "7a6d143d",
   "metadata": {},
   "source": [
    "### ridge regression coefficients vs alpha"
   ]
  },
  {
   "cell_type": "code",
   "execution_count": 37,
   "id": "1f215924",
   "metadata": {},
   "outputs": [
    {
     "data": {
      "image/png": "[encoded data removed]",
      "text/plain": [
       "<Figure size 864x360 with 1 Axes>"
      ]
     },
     "metadata": {
      "needs_background": "light"
     },
     "output_type": "display_data"
    }
   ],
   "source": [
    "alpha_ridge = 10 ** np.linspace(-2, 4, 100)\n",
    "plt.figure(figsize=(12,5))\n",
    "plt.plot(alpha_ridge, \"or\")\n",
    "plt.xlabel(\"steps\")\n",
    "plt.ylabel(\"alpha (lambda)\")\n",
    "plt.show()"
   ]
  },
  {
   "cell_type": "code",
   "execution_count": 38,
   "id": "9fb3149d",
   "metadata": {},
   "outputs": [
    {
     "data": {
      "text/plain": [
       "(100, 5)"
      ]
     },
     "execution_count": 38,
     "metadata": {},
     "output_type": "execute_result"
    }
   ],
   "source": [
    "ridge = Ridge()\n",
    "coefs_ridge = []\n",
    "\n",
    "for i in alpha_ridge :\n",
    "    ridge.set_params(alpha=i)\n",
    "    ridge.fit(X_train, y_train)\n",
    "    coefs_ridge.append(ridge.coef_)\n",
    "\n",
    "np.shape(coefs_ridge)"
   ]
  },
  {
   "cell_type": "code",
   "execution_count": 42,
   "id": "f8673e37",
   "metadata": {},
   "outputs": [
    {
     "data": {
      "image/png": "[encoded data removed]",
      "text/plain": [
       "<Figure size 864x720 with 1 Axes>"
      ]
     },
     "metadata": {
      "needs_background": "light"
     },
     "output_type": "display_data"
    }
   ],
   "source": [
    "plt.figure(figsize=(12,10))\n",
    "ax = plt.gca()\n",
    "ax.plot(alpha_ridge, coefs_ridge)\n",
    "ax.set_xscale(\"log\")\n",
    "plt.axis(\"tight\")\n",
    "plt.xlabel(\"alpha\")\n",
    "plt.ylabel(\"weights: scaled coefficients\")\n",
    "plt.title(\"Ridge regression coefficients vs. alpha\")\n",
    "plt.legend(df.drop(\"y\", axis=1, inplace=False).columns)\n",
    "plt.show()"
   ]
  },
  {
   "cell_type": "markdown",
   "id": "04d8c875",
   "metadata": {},
   "source": [
    "### lasso regression coefficients vs alpha"
   ]
  },
  {
   "cell_type": "code",
   "execution_count": 44,
   "id": "c1631422",
   "metadata": {},
   "outputs": [],
   "source": [
    "alpha_lasso = 10**np.linspace(-3,1,100)"
   ]
  },
  {
   "cell_type": "code",
   "execution_count": 46,
   "id": "90a09f95",
   "metadata": {},
   "outputs": [
    {
     "data": {
      "text/plain": [
       "(100, 5)"
      ]
     },
     "execution_count": 46,
     "metadata": {},
     "output_type": "execute_result"
    }
   ],
   "source": [
    "lasso = Lasso()\n",
    "coefs_lasso = []\n",
    "\n",
    "for i in alpha_lasso :\n",
    "    lasso.set_params(alpha=i)\n",
    "    lasso.fit(X_train, y_train)\n",
    "    coefs_lasso.append(lasso.coef_)\n",
    "\n",
    "np.shape(coefs_lasso)"
   ]
  },
  {
   "cell_type": "code",
   "execution_count": 47,
   "id": "7c99d1b5",
   "metadata": {},
   "outputs": [
    {
     "data": {
      "image/png": "[encoded data removed]",
      "text/plain": [
       "<Figure size 864x720 with 1 Axes>"
      ]
     },
     "metadata": {
      "needs_background": "light"
     },
     "output_type": "display_data"
    }
   ],
   "source": [
    "plt.figure(figsize=(12,10))\n",
    "ax = plt.gca()\n",
    "ax.plot(alpha_lasso, coefs_lasso)\n",
    "ax.set_xscale(\"log\")\n",
    "plt.axis(\"tight\")\n",
    "plt.xlabel(\"alpha\")\n",
    "plt.ylabel(\"weights: scaled coefficients\")\n",
    "plt.title(\"Lasso regression coefficients vs. alpha\")\n",
    "plt.legend(df.drop(\"y\", axis=1, inplace=False).columns)\n",
    "plt.show()"
   ]
  },
  {
   "cell_type": "markdown",
   "id": "ff351ce6",
   "metadata": {},
   "source": [
    "### Elastic Net regression coefficients vs alpha"
   ]
  },
  {
   "cell_type": "code",
   "execution_count": 48,
   "id": "f6ba2880",
   "metadata": {},
   "outputs": [],
   "source": [
    "alpha_elasticnet = 10**np.linspace(-3,2,100)"
   ]
  },
  {
   "cell_type": "code",
   "execution_count": 49,
   "id": "e31cbf26",
   "metadata": {},
   "outputs": [
    {
     "data": {
      "text/plain": [
       "(100, 5)"
      ]
     },
     "execution_count": 49,
     "metadata": {},
     "output_type": "execute_result"
    }
   ],
   "source": [
    "elasticnet = ElasticNet()\n",
    "coefs_elasticnet = []\n",
    "\n",
    "for i in alpha_elasticnet :\n",
    "    elasticnet.set_params(alpha=i)\n",
    "    elasticnet.fit(X_train, y_train)\n",
    "    coefs_elasticnet.append(elasticnet.coef_)\n",
    "\n",
    "np.shape(coefs_elasticnet)"
   ]
  },
  {
   "cell_type": "code",
   "execution_count": 50,
   "id": "a6e0ab50",
   "metadata": {
    "scrolled": true
   },
   "outputs": [
    {
     "data": {
      "image/png": "[encoded data removed]",
      "text/plain": [
       "<Figure size 864x720 with 1 Axes>"
      ]
     },
     "metadata": {
      "needs_background": "light"
     },
     "output_type": "display_data"
    }
   ],
   "source": [
    "plt.figure(figsize=(12,10))\n",
    "ax = plt.gca()\n",
    "ax.plot(alpha_elasticnet, coefs_elasticnet)\n",
    "ax.set_xscale(\"log\")\n",
    "plt.axis(\"tight\")\n",
    "plt.xlabel(\"alpha\")\n",
    "plt.ylabel(\"weights: scaled coefficients\")\n",
    "plt.title(\"ElasticNet regression coefficients vs. alpha\")\n",
    "plt.legend(df.drop(\"y\", axis=1, inplace=False).columns)\n",
    "plt.show()"
   ]
  },
  {
   "cell_type": "markdown",
   "id": "b4c2825b",
   "metadata": {},
   "source": [
    "## Cross Validation\n",
    "\n",
    "The main usage of CV is to tune the hyperparameters"
   ]
  },
  {
   "cell_type": "markdown",
   "id": "9a9a7fd1",
   "metadata": {},
   "source": [
    "Let's use the cross validation to find the optimal lambdas (alphas) for different models"
   ]
  },
  {
   "cell_type": "markdown",
   "id": "52a0d248",
   "metadata": {},
   "source": [
    "### Optimal alpha for Ridge regression"
   ]
  },
  {
   "cell_type": "code",
   "execution_count": 56,
   "id": "2f5351df",
   "metadata": {},
   "outputs": [
    {
     "data": {
      "text/plain": [
       "1.0"
      ]
     },
     "execution_count": 56,
     "metadata": {},
     "output_type": "execute_result"
    }
   ],
   "source": [
    "ridgecv = RidgeCV() # Ridge regression with built-in cross-validation.\n",
    "ridgecv.fit(X_train, y_train)\n",
    "ridgecv.alpha_"
   ]
  },
  {
   "cell_type": "code",
   "execution_count": 57,
   "id": "6f134aa3",
   "metadata": {},
   "outputs": [],
   "source": [
    "alpha_ridge_opt = ridgecv.alpha_"
   ]
  },
  {
   "cell_type": "markdown",
   "id": "7d90ab1a",
   "metadata": {},
   "source": [
    "### Optimal alpha for Lasso regression"
   ]
  },
  {
   "cell_type": "code",
   "execution_count": 58,
   "id": "14bfa320",
   "metadata": {},
   "outputs": [
    {
     "data": {
      "text/plain": [
       "0.004564470133023309"
      ]
     },
     "execution_count": 58,
     "metadata": {},
     "output_type": "execute_result"
    }
   ],
   "source": [
    "lassocv = LassoCV() # Lasso linear model with iterative fitting along a regularization path.\n",
    "lassocv.fit(X_train, y_train)\n",
    "lassocv.alpha_"
   ]
  },
  {
   "cell_type": "code",
   "execution_count": 59,
   "id": "cad2aa52",
   "metadata": {},
   "outputs": [],
   "source": [
    "alpha_lasso_opt = lassocv.alpha_"
   ]
  },
  {
   "cell_type": "markdown",
   "id": "12cc8e5d",
   "metadata": {},
   "source": [
    "### Optimal alpha for Elastic Net regression"
   ]
  },
  {
   "cell_type": "code",
   "execution_count": 60,
   "id": "608575dd",
   "metadata": {},
   "outputs": [
    {
     "data": {
      "text/plain": [
       "0.006440286888331817"
      ]
     },
     "execution_count": 60,
     "metadata": {},
     "output_type": "execute_result"
    }
   ],
   "source": [
    "elasticnetcv = ElasticNetCV() # Elastic Net model with iterative fitting along a regularization path.\n",
    "elasticnetcv.fit(X_train, y_train)\n",
    "elasticnetcv.alpha_"
   ]
  },
  {
   "cell_type": "code",
   "execution_count": 61,
   "id": "c75b4187",
   "metadata": {},
   "outputs": [
    {
     "data": {
      "text/plain": [
       "0.5"
      ]
     },
     "execution_count": 61,
     "metadata": {},
     "output_type": "execute_result"
    }
   ],
   "source": [
    "elasticnetcv.l1_ratio_"
   ]
  },
  {
   "cell_type": "code",
   "execution_count": 62,
   "id": "7c423da4",
   "metadata": {},
   "outputs": [],
   "source": [
    "alpha_elasticnet_opt = elasticnetcv.alpha_"
   ]
  },
  {
   "cell_type": "markdown",
   "id": "4e4c513d",
   "metadata": {},
   "source": [
    "## Refit the models"
   ]
  },
  {
   "cell_type": "markdown",
   "id": "5e8ec787",
   "metadata": {},
   "source": [
    "### Training the model with optimum alphas"
   ]
  },
  {
   "cell_type": "code",
   "execution_count": 64,
   "id": "f190b796",
   "metadata": {},
   "outputs": [],
   "source": [
    "model_linear = LinearRegression()\n",
    "model_ridge = Ridge(alpha=alpha_ridge_opt)\n",
    "model_lasso = Lasso(alpha=alpha_lasso_opt)\n",
    "model_net = ElasticNet(alpha=alpha_elasticnet_opt)"
   ]
  },
  {
   "cell_type": "code",
   "execution_count": 65,
   "id": "aa15d2db",
   "metadata": {},
   "outputs": [],
   "source": [
    "y_hat_linear = model_linear.fit(X_train, y_train).predict(X_test)\n",
    "y_hat_ridge = model_ridge.fit(X_train, y_train).predict(X_test)\n",
    "y_hat_lasso = model_lasso.fit(X_train, y_train).predict(X_test)\n",
    "y_hat_net = model_net.fit(X_train, y_train).predict(X_test)"
   ]
  },
  {
   "cell_type": "code",
   "execution_count": 66,
   "id": "a1ccac07",
   "metadata": {},
   "outputs": [
    {
     "data": {
      "text/html": [
       "<div>\n",
       "<style scoped>\n",
       "    .dataframe tbody tr th:only-of-type {\n",
       "        vertical-align: middle;\n",
       "    }\n",
       "\n",
       "    .dataframe tbody tr th {\n",
       "        vertical-align: top;\n",
       "    }\n",
       "\n",
       "    .dataframe thead th {\n",
       "        text-align: right;\n",
       "    }\n",
       "</style>\n",
       "<table border=\"1\" class=\"dataframe\">\n",
       "  <thead>\n",
       "    <tr style=\"text-align: right;\">\n",
       "      <th></th>\n",
       "      <th>y_test</th>\n",
       "      <th>y_hat_linear</th>\n",
       "      <th>y_hat_ridge</th>\n",
       "      <th>y_hat_lasso</th>\n",
       "      <th>y_hat_net</th>\n",
       "    </tr>\n",
       "  </thead>\n",
       "  <tbody>\n",
       "    <tr>\n",
       "      <th>88</th>\n",
       "      <td>1.307243</td>\n",
       "      <td>0.171067</td>\n",
       "      <td>0.175576</td>\n",
       "      <td>0.154862</td>\n",
       "      <td>0.163279</td>\n",
       "    </tr>\n",
       "    <tr>\n",
       "      <th>4</th>\n",
       "      <td>-0.404102</td>\n",
       "      <td>-0.079686</td>\n",
       "      <td>-0.032038</td>\n",
       "      <td>-0.047122</td>\n",
       "      <td>-0.044388</td>\n",
       "    </tr>\n",
       "    <tr>\n",
       "      <th>62</th>\n",
       "      <td>-1.055680</td>\n",
       "      <td>-0.180921</td>\n",
       "      <td>-0.148966</td>\n",
       "      <td>-0.148200</td>\n",
       "      <td>-0.149537</td>\n",
       "    </tr>\n",
       "    <tr>\n",
       "      <th>63</th>\n",
       "      <td>2.538916</td>\n",
       "      <td>2.344482</td>\n",
       "      <td>2.083804</td>\n",
       "      <td>2.156366</td>\n",
       "      <td>2.139361</td>\n",
       "    </tr>\n",
       "    <tr>\n",
       "      <th>48</th>\n",
       "      <td>1.144605</td>\n",
       "      <td>-0.078630</td>\n",
       "      <td>-0.001604</td>\n",
       "      <td>-0.031199</td>\n",
       "      <td>-0.022572</td>\n",
       "    </tr>\n",
       "  </tbody>\n",
       "</table>\n",
       "</div>"
      ],
      "text/plain": [
       "      y_test  y_hat_linear  y_hat_ridge  y_hat_lasso  y_hat_net\n",
       "88  1.307243      0.171067     0.175576     0.154862   0.163279\n",
       "4  -0.404102     -0.079686    -0.032038    -0.047122  -0.044388\n",
       "62 -1.055680     -0.180921    -0.148966    -0.148200  -0.149537\n",
       "63  2.538916      2.344482     2.083804     2.156366   2.139361\n",
       "48  1.144605     -0.078630    -0.001604    -0.031199  -0.022572"
      ]
     },
     "execution_count": 66,
     "metadata": {},
     "output_type": "execute_result"
    }
   ],
   "source": [
    "df_predictions = pd.DataFrame({\"y_test\" : y_test,\n",
    "                              \"y_hat_linear\" : y_hat_linear,\n",
    "                              \"y_hat_ridge\" : y_hat_ridge,\n",
    "                              \"y_hat_lasso\" : y_hat_lasso,\n",
    "                              \"y_hat_net\" : y_hat_net})\n",
    "\n",
    "df_predictions.head()"
   ]
  },
  {
   "cell_type": "markdown",
   "id": "37c0060c",
   "metadata": {},
   "source": [
    "### coefficients"
   ]
  },
  {
   "cell_type": "code",
   "execution_count": 67,
   "id": "42471726",
   "metadata": {},
   "outputs": [
    {
     "data": {
      "text/plain": [
       "Index(['X1', 'X2', 'X3', 'X4', 'X5'], dtype='object')"
      ]
     },
     "execution_count": 67,
     "metadata": {},
     "output_type": "execute_result"
    }
   ],
   "source": [
    "df.drop(\"y\", axis=1, inplace=False).columns"
   ]
  },
  {
   "cell_type": "code",
   "execution_count": 68,
   "id": "5e541bfe",
   "metadata": {},
   "outputs": [
    {
     "data": {
      "text/html": [
       "<div>\n",
       "<style scoped>\n",
       "    .dataframe tbody tr th:only-of-type {\n",
       "        vertical-align: middle;\n",
       "    }\n",
       "\n",
       "    .dataframe tbody tr th {\n",
       "        vertical-align: top;\n",
       "    }\n",
       "\n",
       "    .dataframe thead th {\n",
       "        text-align: right;\n",
       "    }\n",
       "</style>\n",
       "<table border=\"1\" class=\"dataframe\">\n",
       "  <thead>\n",
       "    <tr style=\"text-align: right;\">\n",
       "      <th></th>\n",
       "      <th>Features</th>\n",
       "      <th>model_lin</th>\n",
       "      <th>model_ridge</th>\n",
       "      <th>model_lasso</th>\n",
       "      <th>model_net</th>\n",
       "    </tr>\n",
       "  </thead>\n",
       "  <tbody>\n",
       "    <tr>\n",
       "      <th>0</th>\n",
       "      <td>X1</td>\n",
       "      <td>0.537047</td>\n",
       "      <td>0.256687</td>\n",
       "      <td>0.322054</td>\n",
       "      <td>0.308461</td>\n",
       "    </tr>\n",
       "    <tr>\n",
       "      <th>1</th>\n",
       "      <td>X2</td>\n",
       "      <td>0.103655</td>\n",
       "      <td>0.192091</td>\n",
       "      <td>0.156880</td>\n",
       "      <td>0.165614</td>\n",
       "    </tr>\n",
       "    <tr>\n",
       "      <th>2</th>\n",
       "      <td>X3</td>\n",
       "      <td>-2.133872</td>\n",
       "      <td>-0.963844</td>\n",
       "      <td>-1.183806</td>\n",
       "      <td>-1.151128</td>\n",
       "    </tr>\n",
       "    <tr>\n",
       "      <th>3</th>\n",
       "      <td>X4</td>\n",
       "      <td>0.253492</td>\n",
       "      <td>-0.041360</td>\n",
       "      <td>-0.000000</td>\n",
       "      <td>-0.000000</td>\n",
       "    </tr>\n",
       "    <tr>\n",
       "      <th>4</th>\n",
       "      <td>X5</td>\n",
       "      <td>1.593336</td>\n",
       "      <td>-0.221195</td>\n",
       "      <td>0.000000</td>\n",
       "      <td>-0.000000</td>\n",
       "    </tr>\n",
       "  </tbody>\n",
       "</table>\n",
       "</div>"
      ],
      "text/plain": [
       "  Features  model_lin  model_ridge  model_lasso  model_net\n",
       "0       X1   0.537047     0.256687     0.322054   0.308461\n",
       "1       X2   0.103655     0.192091     0.156880   0.165614\n",
       "2       X3  -2.133872    -0.963844    -1.183806  -1.151128\n",
       "3       X4   0.253492    -0.041360    -0.000000  -0.000000\n",
       "4       X5   1.593336    -0.221195     0.000000  -0.000000"
      ]
     },
     "execution_count": 68,
     "metadata": {},
     "output_type": "execute_result"
    }
   ],
   "source": [
    "coefficients = pd.DataFrame({\"Features\": df.drop(\"y\", axis=1, inplace=False).columns})\n",
    "coefficients[\"model_lin\"] = model_linear.coef_\n",
    "coefficients[\"model_ridge\"] = model_ridge.coef_\n",
    "coefficients[\"model_lasso\"] = model_lasso.coef_\n",
    "coefficients[\"model_net\"] = model_net.coef_\n",
    "coefficients"
   ]
  },
  {
   "cell_type": "markdown",
   "id": "1b71ff25",
   "metadata": {},
   "source": [
    "### performence in test set"
   ]
  },
  {
   "cell_type": "code",
   "execution_count": 69,
   "id": "055a50b9",
   "metadata": {},
   "outputs": [
    {
     "data": {
      "text/plain": [
       "2.037"
      ]
     },
     "execution_count": 69,
     "metadata": {},
     "output_type": "execute_result"
    }
   ],
   "source": [
    "MSE_test = np.mean(np.square(df_predictions[\"y_test\"] - df_predictions[\"y_hat_linear\"]))\n",
    "RMSE_test = np.sqrt(MSE_test)\n",
    "np.round(RMSE_test, 3)"
   ]
  },
  {
   "cell_type": "code",
   "execution_count": 70,
   "id": "8c650378",
   "metadata": {},
   "outputs": [
    {
     "data": {
      "text/plain": [
       "0.894"
      ]
     },
     "execution_count": 70,
     "metadata": {},
     "output_type": "execute_result"
    }
   ],
   "source": [
    "MSE_test = np.mean(np.square(df_predictions[\"y_test\"] - df_predictions[\"y_hat_ridge\"]))\n",
    "RMSE_test = np.sqrt(MSE_test)\n",
    "np.round(RMSE_test, 3)"
   ]
  },
  {
   "cell_type": "code",
   "execution_count": 71,
   "id": "585fcfed",
   "metadata": {},
   "outputs": [
    {
     "data": {
      "text/plain": [
       "0.81"
      ]
     },
     "execution_count": 71,
     "metadata": {},
     "output_type": "execute_result"
    }
   ],
   "source": [
    "MSE_test = np.mean(np.square(df_predictions[\"y_test\"] - df_predictions[\"y_hat_lasso\"]))\n",
    "RMSE_test = np.sqrt(MSE_test)\n",
    "np.round(RMSE_test, 3)"
   ]
  },
  {
   "cell_type": "code",
   "execution_count": 72,
   "id": "94446a3c",
   "metadata": {},
   "outputs": [
    {
     "data": {
      "text/plain": [
       "0.781"
      ]
     },
     "execution_count": 72,
     "metadata": {},
     "output_type": "execute_result"
    }
   ],
   "source": [
    "MSE_test = np.mean(np.square(df_predictions[\"y_test\"] - df_predictions[\"y_hat_net\"]))\n",
    "RMSE_test = np.sqrt(MSE_test)\n",
    "np.round(RMSE_test, 3)"
   ]
  },
  {
   "cell_type": "markdown",
   "id": "c9a60222",
   "metadata": {},
   "source": [
    "# Regularization wtih Boston Data set (real world example)\n",
    "\n",
    "In this notebook we  will explore the three methods and compare their result with a multiple linear regression model applied to Boston Housing dataset. The terget variable is **price** and the features are 10 polynomial features os LSTAT; % lower status of the population. LSTAT2 = LSTAT**2, LSTAT3 = LSTAT**3,.. and etc."
   ]
  },
  {
   "cell_type": "code",
   "execution_count": 76,
   "id": "b4bdb831",
   "metadata": {},
   "outputs": [
    {
     "data": {
      "text/html": [
       "<div>\n",
       "<style scoped>\n",
       "    .dataframe tbody tr th:only-of-type {\n",
       "        vertical-align: middle;\n",
       "    }\n",
       "\n",
       "    .dataframe tbody tr th {\n",
       "        vertical-align: top;\n",
       "    }\n",
       "\n",
       "    .dataframe thead th {\n",
       "        text-align: right;\n",
       "    }\n",
       "</style>\n",
       "<table border=\"1\" class=\"dataframe\">\n",
       "  <thead>\n",
       "    <tr style=\"text-align: right;\">\n",
       "      <th></th>\n",
       "      <th>price</th>\n",
       "      <th>LSTAT</th>\n",
       "      <th>LSTAT2</th>\n",
       "      <th>LSTAT3</th>\n",
       "      <th>LSTAT4</th>\n",
       "      <th>LSTAT5</th>\n",
       "      <th>LSTAT6</th>\n",
       "      <th>LSTAT7</th>\n",
       "      <th>LSTAT8</th>\n",
       "      <th>LSTAT9</th>\n",
       "      <th>LSTAT10</th>\n",
       "    </tr>\n",
       "  </thead>\n",
       "  <tbody>\n",
       "    <tr>\n",
       "      <th>0</th>\n",
       "      <td>24.0</td>\n",
       "      <td>4.98</td>\n",
       "      <td>24.8004</td>\n",
       "      <td>123.505992</td>\n",
       "      <td>615.059840</td>\n",
       "      <td>3062.998004</td>\n",
       "      <td>15253.730060</td>\n",
       "      <td>7.596358e+04</td>\n",
       "      <td>3.782986e+05</td>\n",
       "      <td>1.883927e+06</td>\n",
       "      <td>9.381957e+06</td>\n",
       "    </tr>\n",
       "    <tr>\n",
       "      <th>1</th>\n",
       "      <td>21.6</td>\n",
       "      <td>9.14</td>\n",
       "      <td>83.5396</td>\n",
       "      <td>763.551944</td>\n",
       "      <td>6978.864768</td>\n",
       "      <td>63786.823980</td>\n",
       "      <td>583011.571200</td>\n",
       "      <td>5.328726e+06</td>\n",
       "      <td>4.870455e+07</td>\n",
       "      <td>4.451596e+08</td>\n",
       "      <td>4.068759e+09</td>\n",
       "    </tr>\n",
       "    <tr>\n",
       "      <th>2</th>\n",
       "      <td>34.7</td>\n",
       "      <td>4.03</td>\n",
       "      <td>16.2409</td>\n",
       "      <td>65.450827</td>\n",
       "      <td>263.766833</td>\n",
       "      <td>1062.980336</td>\n",
       "      <td>4283.810755</td>\n",
       "      <td>1.726376e+04</td>\n",
       "      <td>6.957294e+04</td>\n",
       "      <td>2.803790e+05</td>\n",
       "      <td>1.129927e+06</td>\n",
       "    </tr>\n",
       "    <tr>\n",
       "      <th>3</th>\n",
       "      <td>33.4</td>\n",
       "      <td>2.94</td>\n",
       "      <td>8.6436</td>\n",
       "      <td>25.412184</td>\n",
       "      <td>74.711821</td>\n",
       "      <td>219.652754</td>\n",
       "      <td>645.779096</td>\n",
       "      <td>1.898591e+03</td>\n",
       "      <td>5.581856e+03</td>\n",
       "      <td>1.641066e+04</td>\n",
       "      <td>4.824733e+04</td>\n",
       "    </tr>\n",
       "    <tr>\n",
       "      <th>4</th>\n",
       "      <td>36.2</td>\n",
       "      <td>5.33</td>\n",
       "      <td>28.4089</td>\n",
       "      <td>151.419437</td>\n",
       "      <td>807.065599</td>\n",
       "      <td>4301.659644</td>\n",
       "      <td>22927.845900</td>\n",
       "      <td>1.222054e+05</td>\n",
       "      <td>6.513549e+05</td>\n",
       "      <td>3.471722e+06</td>\n",
       "      <td>1.850428e+07</td>\n",
       "    </tr>\n",
       "  </tbody>\n",
       "</table>\n",
       "</div>"
      ],
      "text/plain": [
       "   price  LSTAT   LSTAT2      LSTAT3       LSTAT4        LSTAT5  \\\n",
       "0   24.0   4.98  24.8004  123.505992   615.059840   3062.998004   \n",
       "1   21.6   9.14  83.5396  763.551944  6978.864768  63786.823980   \n",
       "2   34.7   4.03  16.2409   65.450827   263.766833   1062.980336   \n",
       "3   33.4   2.94   8.6436   25.412184    74.711821    219.652754   \n",
       "4   36.2   5.33  28.4089  151.419437   807.065599   4301.659644   \n",
       "\n",
       "          LSTAT6        LSTAT7        LSTAT8        LSTAT9       LSTAT10  \n",
       "0   15253.730060  7.596358e+04  3.782986e+05  1.883927e+06  9.381957e+06  \n",
       "1  583011.571200  5.328726e+06  4.870455e+07  4.451596e+08  4.068759e+09  \n",
       "2    4283.810755  1.726376e+04  6.957294e+04  2.803790e+05  1.129927e+06  \n",
       "3     645.779096  1.898591e+03  5.581856e+03  1.641066e+04  4.824733e+04  \n",
       "4   22927.845900  1.222054e+05  6.513549e+05  3.471722e+06  1.850428e+07  "
      ]
     },
     "execution_count": 76,
     "metadata": {},
     "output_type": "execute_result"
    }
   ],
   "source": [
    "df = pd.read_csv(\"Regularization_Boston.csv\")\n",
    "df.head()"
   ]
  },
  {
   "cell_type": "code",
   "execution_count": 78,
   "id": "1146914a",
   "metadata": {},
   "outputs": [
    {
     "data": {
      "image/png": "[encoded data removed]",
      "text/plain": [
       "<Figure size 432x288 with 1 Axes>"
      ]
     },
     "metadata": {
      "needs_background": "light"
     },
     "output_type": "display_data"
    }
   ],
   "source": [
    "sns.scatterplot(x=\"LSTAT\", y=\"price\", data = df);"
   ]
  },
  {
   "cell_type": "markdown",
   "id": "da57a61c",
   "metadata": {},
   "source": [
    "**important:** we need to normalize the features before training the models."
   ]
  },
  {
   "cell_type": "code",
   "execution_count": 79,
   "id": "91571e66",
   "metadata": {},
   "outputs": [
    {
     "data": {
      "text/plain": [
       "array([[ 0.15968566, -1.0755623 , -0.78952949, ..., -0.20115811,\n",
       "        -0.1777807 , -0.15953586],\n",
       "       [-0.10152429, -0.49243937, -0.54045362, ..., -0.20100802,\n",
       "        -0.17774223, -0.15952611],\n",
       "       [ 1.32424667, -1.2087274 , -0.82582493, ..., -0.20115907,\n",
       "        -0.17778084, -0.15953588],\n",
       "       ...,\n",
       "       [ 0.14880191, -0.98304761, -0.7598079 , ..., -0.20115611,\n",
       "        -0.17778036, -0.1595358 ],\n",
       "       [-0.0579893 , -0.86530163, -0.71663755, ..., -0.20114963,\n",
       "        -0.17777912, -0.15953557],\n",
       "       [-1.15724782, -0.66905833, -0.63138918, ..., -0.20111311,\n",
       "        -0.1777707 , -0.15953367]])"
      ]
     },
     "execution_count": 79,
     "metadata": {},
     "output_type": "execute_result"
    }
   ],
   "source": [
    "scaler = StandardScaler()\n",
    "df_sc = scaler.fit_transform(df)\n",
    "df_sc"
   ]
  },
  {
   "cell_type": "code",
   "execution_count": 80,
   "id": "5d0aab28",
   "metadata": {},
   "outputs": [
    {
     "data": {
      "text/html": [
       "<div>\n",
       "<style scoped>\n",
       "    .dataframe tbody tr th:only-of-type {\n",
       "        vertical-align: middle;\n",
       "    }\n",
       "\n",
       "    .dataframe tbody tr th {\n",
       "        vertical-align: top;\n",
       "    }\n",
       "\n",
       "    .dataframe thead th {\n",
       "        text-align: right;\n",
       "    }\n",
       "</style>\n",
       "<table border=\"1\" class=\"dataframe\">\n",
       "  <thead>\n",
       "    <tr style=\"text-align: right;\">\n",
       "      <th></th>\n",
       "      <th>price</th>\n",
       "      <th>LSTAT</th>\n",
       "      <th>LSTAT2</th>\n",
       "      <th>LSTAT3</th>\n",
       "      <th>LSTAT4</th>\n",
       "      <th>LSTAT5</th>\n",
       "      <th>LSTAT6</th>\n",
       "      <th>LSTAT7</th>\n",
       "      <th>LSTAT8</th>\n",
       "      <th>LSTAT9</th>\n",
       "      <th>LSTAT10</th>\n",
       "    </tr>\n",
       "  </thead>\n",
       "  <tbody>\n",
       "    <tr>\n",
       "      <th>count</th>\n",
       "      <td>506.000000</td>\n",
       "      <td>506.000000</td>\n",
       "      <td>506.000000</td>\n",
       "      <td>506.000000</td>\n",
       "      <td>5.060000e+02</td>\n",
       "      <td>5.060000e+02</td>\n",
       "      <td>5.060000e+02</td>\n",
       "      <td>5.060000e+02</td>\n",
       "      <td>5.060000e+02</td>\n",
       "      <td>5.060000e+02</td>\n",
       "      <td>5.060000e+02</td>\n",
       "    </tr>\n",
       "    <tr>\n",
       "      <th>mean</th>\n",
       "      <td>22.532806</td>\n",
       "      <td>12.653063</td>\n",
       "      <td>210.993989</td>\n",
       "      <td>4285.788793</td>\n",
       "      <td>1.001336e+05</td>\n",
       "      <td>2.587609e+06</td>\n",
       "      <td>7.198029e+07</td>\n",
       "      <td>2.114923e+09</td>\n",
       "      <td>6.477077e+10</td>\n",
       "      <td>2.048399e+12</td>\n",
       "      <td>6.645292e+13</td>\n",
       "    </tr>\n",
       "    <tr>\n",
       "      <th>std</th>\n",
       "      <td>9.197104</td>\n",
       "      <td>7.141062</td>\n",
       "      <td>236.061920</td>\n",
       "      <td>7329.288372</td>\n",
       "      <td>2.342059e+05</td>\n",
       "      <td>7.737927e+06</td>\n",
       "      <td>2.628503e+08</td>\n",
       "      <td>9.126326e+09</td>\n",
       "      <td>3.223061e+11</td>\n",
       "      <td>1.153345e+13</td>\n",
       "      <td>4.169512e+14</td>\n",
       "    </tr>\n",
       "    <tr>\n",
       "      <th>min</th>\n",
       "      <td>5.000000</td>\n",
       "      <td>1.730000</td>\n",
       "      <td>2.992900</td>\n",
       "      <td>5.177717</td>\n",
       "      <td>8.957450e+00</td>\n",
       "      <td>1.549639e+01</td>\n",
       "      <td>2.680875e+01</td>\n",
       "      <td>4.637914e+01</td>\n",
       "      <td>8.023592e+01</td>\n",
       "      <td>1.388081e+02</td>\n",
       "      <td>2.401381e+02</td>\n",
       "    </tr>\n",
       "    <tr>\n",
       "      <th>25%</th>\n",
       "      <td>17.025000</td>\n",
       "      <td>6.950000</td>\n",
       "      <td>48.303700</td>\n",
       "      <td>335.727443</td>\n",
       "      <td>2.333481e+03</td>\n",
       "      <td>1.621932e+04</td>\n",
       "      <td>1.127384e+05</td>\n",
       "      <td>7.836504e+05</td>\n",
       "      <td>5.447333e+06</td>\n",
       "      <td>3.786664e+07</td>\n",
       "      <td>2.632333e+08</td>\n",
       "    </tr>\n",
       "    <tr>\n",
       "      <th>50%</th>\n",
       "      <td>21.200000</td>\n",
       "      <td>11.360000</td>\n",
       "      <td>129.050000</td>\n",
       "      <td>1466.017088</td>\n",
       "      <td>1.665411e+04</td>\n",
       "      <td>1.891930e+05</td>\n",
       "      <td>2.149266e+06</td>\n",
       "      <td>2.441612e+07</td>\n",
       "      <td>2.773731e+08</td>\n",
       "      <td>3.151037e+09</td>\n",
       "      <td>3.579677e+10</td>\n",
       "    </tr>\n",
       "    <tr>\n",
       "      <th>75%</th>\n",
       "      <td>25.000000</td>\n",
       "      <td>16.955000</td>\n",
       "      <td>287.472100</td>\n",
       "      <td>4874.091998</td>\n",
       "      <td>8.264029e+04</td>\n",
       "      <td>1.401168e+06</td>\n",
       "      <td>2.375683e+07</td>\n",
       "      <td>4.027977e+08</td>\n",
       "      <td>6.829447e+09</td>\n",
       "      <td>1.157935e+11</td>\n",
       "      <td>1.963285e+12</td>\n",
       "    </tr>\n",
       "    <tr>\n",
       "      <th>max</th>\n",
       "      <td>50.000000</td>\n",
       "      <td>37.970000</td>\n",
       "      <td>1441.720900</td>\n",
       "      <td>54742.142570</td>\n",
       "      <td>2.078559e+06</td>\n",
       "      <td>7.892289e+07</td>\n",
       "      <td>2.996702e+09</td>\n",
       "      <td>1.137850e+11</td>\n",
       "      <td>4.320410e+12</td>\n",
       "      <td>1.640460e+14</td>\n",
       "      <td>6.228820e+15</td>\n",
       "    </tr>\n",
       "  </tbody>\n",
       "</table>\n",
       "</div>"
      ],
      "text/plain": [
       "            price       LSTAT       LSTAT2        LSTAT3        LSTAT4  \\\n",
       "count  506.000000  506.000000   506.000000    506.000000  5.060000e+02   \n",
       "mean    22.532806   12.653063   210.993989   4285.788793  1.001336e+05   \n",
       "std      9.197104    7.141062   236.061920   7329.288372  2.342059e+05   \n",
       "min      5.000000    1.730000     2.992900      5.177717  8.957450e+00   \n",
       "25%     17.025000    6.950000    48.303700    335.727443  2.333481e+03   \n",
       "50%     21.200000   11.360000   129.050000   1466.017088  1.665411e+04   \n",
       "75%     25.000000   16.955000   287.472100   4874.091998  8.264029e+04   \n",
       "max     50.000000   37.970000  1441.720900  54742.142570  2.078559e+06   \n",
       "\n",
       "             LSTAT5        LSTAT6        LSTAT7        LSTAT8        LSTAT9  \\\n",
       "count  5.060000e+02  5.060000e+02  5.060000e+02  5.060000e+02  5.060000e+02   \n",
       "mean   2.587609e+06  7.198029e+07  2.114923e+09  6.477077e+10  2.048399e+12   \n",
       "std    7.737927e+06  2.628503e+08  9.126326e+09  3.223061e+11  1.153345e+13   \n",
       "min    1.549639e+01  2.680875e+01  4.637914e+01  8.023592e+01  1.388081e+02   \n",
       "25%    1.621932e+04  1.127384e+05  7.836504e+05  5.447333e+06  3.786664e+07   \n",
       "50%    1.891930e+05  2.149266e+06  2.441612e+07  2.773731e+08  3.151037e+09   \n",
       "75%    1.401168e+06  2.375683e+07  4.027977e+08  6.829447e+09  1.157935e+11   \n",
       "max    7.892289e+07  2.996702e+09  1.137850e+11  4.320410e+12  1.640460e+14   \n",
       "\n",
       "            LSTAT10  \n",
       "count  5.060000e+02  \n",
       "mean   6.645292e+13  \n",
       "std    4.169512e+14  \n",
       "min    2.401381e+02  \n",
       "25%    2.632333e+08  \n",
       "50%    3.579677e+10  \n",
       "75%    1.963285e+12  \n",
       "max    6.228820e+15  "
      ]
     },
     "execution_count": 80,
     "metadata": {},
     "output_type": "execute_result"
    }
   ],
   "source": [
    "df.describe()"
   ]
  },
  {
   "cell_type": "code",
   "execution_count": 81,
   "id": "c57d23cc",
   "metadata": {},
   "outputs": [
    {
     "data": {
      "text/plain": [
       "0.15952782528065348"
      ]
     },
     "execution_count": 81,
     "metadata": {},
     "output_type": "execute_result"
    }
   ],
   "source": [
    "# checking the first observation for LSTAT\n",
    "(24-22.532806)/9.197104"
   ]
  },
  {
   "cell_type": "code",
   "execution_count": 82,
   "id": "3966d714",
   "metadata": {},
   "outputs": [
    {
     "data": {
      "text/plain": [
       "Index(['price', 'LSTAT', 'LSTAT2', 'LSTAT3', 'LSTAT4', 'LSTAT5', 'LSTAT6',\n",
       "       'LSTAT7', 'LSTAT8', 'LSTAT9', 'LSTAT10'],\n",
       "      dtype='object')"
      ]
     },
     "execution_count": 82,
     "metadata": {},
     "output_type": "execute_result"
    }
   ],
   "source": [
    "df.columns"
   ]
  },
  {
   "cell_type": "code",
   "execution_count": 85,
   "id": "a1fb1fd7",
   "metadata": {},
   "outputs": [
    {
     "data": {
      "text/html": [
       "<div>\n",
       "<style scoped>\n",
       "    .dataframe tbody tr th:only-of-type {\n",
       "        vertical-align: middle;\n",
       "    }\n",
       "\n",
       "    .dataframe tbody tr th {\n",
       "        vertical-align: top;\n",
       "    }\n",
       "\n",
       "    .dataframe thead th {\n",
       "        text-align: right;\n",
       "    }\n",
       "</style>\n",
       "<table border=\"1\" class=\"dataframe\">\n",
       "  <thead>\n",
       "    <tr style=\"text-align: right;\">\n",
       "      <th></th>\n",
       "      <th>price</th>\n",
       "      <th>LSTAT</th>\n",
       "      <th>LSTAT2</th>\n",
       "      <th>LSTAT3</th>\n",
       "      <th>LSTAT4</th>\n",
       "      <th>LSTAT5</th>\n",
       "      <th>LSTAT6</th>\n",
       "      <th>LSTAT7</th>\n",
       "      <th>LSTAT8</th>\n",
       "      <th>LSTAT9</th>\n",
       "      <th>LSTAT10</th>\n",
       "    </tr>\n",
       "  </thead>\n",
       "  <tbody>\n",
       "    <tr>\n",
       "      <th>0</th>\n",
       "      <td>0.159686</td>\n",
       "      <td>-1.075562</td>\n",
       "      <td>-0.789529</td>\n",
       "      <td>-0.568459</td>\n",
       "      <td>-0.425339</td>\n",
       "      <td>-0.334341</td>\n",
       "      <td>-0.274058</td>\n",
       "      <td>-0.231960</td>\n",
       "      <td>-0.201158</td>\n",
       "      <td>-0.177781</td>\n",
       "      <td>-0.159536</td>\n",
       "    </tr>\n",
       "    <tr>\n",
       "      <th>1</th>\n",
       "      <td>-0.101524</td>\n",
       "      <td>-0.492439</td>\n",
       "      <td>-0.540454</td>\n",
       "      <td>-0.481046</td>\n",
       "      <td>-0.398141</td>\n",
       "      <td>-0.326485</td>\n",
       "      <td>-0.271896</td>\n",
       "      <td>-0.231384</td>\n",
       "      <td>-0.201008</td>\n",
       "      <td>-0.177742</td>\n",
       "      <td>-0.159526</td>\n",
       "    </tr>\n",
       "    <tr>\n",
       "      <th>2</th>\n",
       "      <td>1.324247</td>\n",
       "      <td>-1.208727</td>\n",
       "      <td>-0.825825</td>\n",
       "      <td>-0.576388</td>\n",
       "      <td>-0.426841</td>\n",
       "      <td>-0.334599</td>\n",
       "      <td>-0.274100</td>\n",
       "      <td>-0.231966</td>\n",
       "      <td>-0.201159</td>\n",
       "      <td>-0.177781</td>\n",
       "      <td>-0.159536</td>\n",
       "    </tr>\n",
       "    <tr>\n",
       "      <th>3</th>\n",
       "      <td>1.182758</td>\n",
       "      <td>-1.361517</td>\n",
       "      <td>-0.858040</td>\n",
       "      <td>-0.581856</td>\n",
       "      <td>-0.427649</td>\n",
       "      <td>-0.334708</td>\n",
       "      <td>-0.274114</td>\n",
       "      <td>-0.231968</td>\n",
       "      <td>-0.201159</td>\n",
       "      <td>-0.177781</td>\n",
       "      <td>-0.159536</td>\n",
       "    </tr>\n",
       "    <tr>\n",
       "      <th>4</th>\n",
       "      <td>1.487503</td>\n",
       "      <td>-1.026501</td>\n",
       "      <td>-0.774228</td>\n",
       "      <td>-0.564647</td>\n",
       "      <td>-0.424519</td>\n",
       "      <td>-0.334180</td>\n",
       "      <td>-0.274029</td>\n",
       "      <td>-0.231955</td>\n",
       "      <td>-0.201157</td>\n",
       "      <td>-0.177781</td>\n",
       "      <td>-0.159536</td>\n",
       "    </tr>\n",
       "  </tbody>\n",
       "</table>\n",
       "</div>"
      ],
      "text/plain": [
       "      price     LSTAT    LSTAT2    LSTAT3    LSTAT4    LSTAT5    LSTAT6  \\\n",
       "0  0.159686 -1.075562 -0.789529 -0.568459 -0.425339 -0.334341 -0.274058   \n",
       "1 -0.101524 -0.492439 -0.540454 -0.481046 -0.398141 -0.326485 -0.271896   \n",
       "2  1.324247 -1.208727 -0.825825 -0.576388 -0.426841 -0.334599 -0.274100   \n",
       "3  1.182758 -1.361517 -0.858040 -0.581856 -0.427649 -0.334708 -0.274114   \n",
       "4  1.487503 -1.026501 -0.774228 -0.564647 -0.424519 -0.334180 -0.274029   \n",
       "\n",
       "     LSTAT7    LSTAT8    LSTAT9   LSTAT10  \n",
       "0 -0.231960 -0.201158 -0.177781 -0.159536  \n",
       "1 -0.231384 -0.201008 -0.177742 -0.159526  \n",
       "2 -0.231966 -0.201159 -0.177781 -0.159536  \n",
       "3 -0.231968 -0.201159 -0.177781 -0.159536  \n",
       "4 -0.231955 -0.201157 -0.177781 -0.159536  "
      ]
     },
     "execution_count": 85,
     "metadata": {},
     "output_type": "execute_result"
    }
   ],
   "source": [
    "df_sc = pd.DataFrame(df_sc, columns = df.columns)\n",
    "df_sc.head()"
   ]
  },
  {
   "cell_type": "code",
   "execution_count": 86,
   "id": "dcbd72ee",
   "metadata": {},
   "outputs": [
    {
     "data": {
      "image/png": "[encoded data removed]",
      "text/plain": [
       "<Figure size 432x288 with 1 Axes>"
      ]
     },
     "metadata": {
      "needs_background": "light"
     },
     "output_type": "display_data"
    }
   ],
   "source": [
    "sns.scatterplot(x=\"LSTAT\", y=\"price\", data = df_sc);"
   ]
  },
  {
   "cell_type": "markdown",
   "id": "5f09b7f7",
   "metadata": {},
   "source": [
    "## Splitting the data"
   ]
  },
  {
   "cell_type": "code",
   "execution_count": 87,
   "id": "361ce241",
   "metadata": {},
   "outputs": [
    {
     "data": {
      "text/html": [
       "<div>\n",
       "<style scoped>\n",
       "    .dataframe tbody tr th:only-of-type {\n",
       "        vertical-align: middle;\n",
       "    }\n",
       "\n",
       "    .dataframe tbody tr th {\n",
       "        vertical-align: top;\n",
       "    }\n",
       "\n",
       "    .dataframe thead th {\n",
       "        text-align: right;\n",
       "    }\n",
       "</style>\n",
       "<table border=\"1\" class=\"dataframe\">\n",
       "  <thead>\n",
       "    <tr style=\"text-align: right;\">\n",
       "      <th></th>\n",
       "      <th>LSTAT</th>\n",
       "      <th>LSTAT2</th>\n",
       "      <th>LSTAT3</th>\n",
       "      <th>LSTAT4</th>\n",
       "      <th>LSTAT5</th>\n",
       "      <th>LSTAT6</th>\n",
       "      <th>LSTAT7</th>\n",
       "      <th>LSTAT8</th>\n",
       "      <th>LSTAT9</th>\n",
       "      <th>LSTAT10</th>\n",
       "    </tr>\n",
       "  </thead>\n",
       "  <tbody>\n",
       "    <tr>\n",
       "      <th>300</th>\n",
       "      <td>-0.922773</td>\n",
       "      <td>-0.738456</td>\n",
       "      <td>-0.554782</td>\n",
       "      <td>-0.422166</td>\n",
       "      <td>-0.333671</td>\n",
       "      <td>-0.273926</td>\n",
       "      <td>-0.231935</td>\n",
       "      <td>-0.201154</td>\n",
       "      <td>-0.177780</td>\n",
       "      <td>-0.159536</td>\n",
       "    </tr>\n",
       "    <tr>\n",
       "      <th>32</th>\n",
       "      <td>2.110588</td>\n",
       "      <td>2.361250</td>\n",
       "      <td>2.320551</td>\n",
       "      <td>2.091900</td>\n",
       "      <td>1.778692</td>\n",
       "      <td>1.449896</td>\n",
       "      <td>1.143940</td>\n",
       "      <td>0.878417</td>\n",
       "      <td>0.658205</td>\n",
       "      <td>0.481244</td>\n",
       "    </tr>\n",
       "    <tr>\n",
       "      <th>181</th>\n",
       "      <td>-0.448985</td>\n",
       "      <td>-0.516017</td>\n",
       "      <td>-0.470071</td>\n",
       "      <td>-0.393883</td>\n",
       "      <td>-0.324988</td>\n",
       "      <td>-0.271404</td>\n",
       "      <td>-0.231230</td>\n",
       "      <td>-0.200962</td>\n",
       "      <td>-0.177729</td>\n",
       "      <td>-0.159522</td>\n",
       "    </tr>\n",
       "    <tr>\n",
       "      <th>272</th>\n",
       "      <td>-0.690084</td>\n",
       "      <td>-0.641318</td>\n",
       "      <td>-0.522245</td>\n",
       "      <td>-0.412708</td>\n",
       "      <td>-0.331167</td>\n",
       "      <td>-0.273304</td>\n",
       "      <td>-0.231787</td>\n",
       "      <td>-0.201120</td>\n",
       "      <td>-0.177772</td>\n",
       "      <td>-0.159534</td>\n",
       "    </tr>\n",
       "    <tr>\n",
       "      <th>477</th>\n",
       "      <td>1.718101</td>\n",
       "      <td>1.736491</td>\n",
       "      <td>1.525676</td>\n",
       "      <td>1.217641</td>\n",
       "      <td>0.905982</td>\n",
       "      <td>0.635721</td>\n",
       "      <td>0.420786</td>\n",
       "      <td>0.259256</td>\n",
       "      <td>0.142724</td>\n",
       "      <td>0.061306</td>\n",
       "    </tr>\n",
       "  </tbody>\n",
       "</table>\n",
       "</div>"
      ],
      "text/plain": [
       "        LSTAT    LSTAT2    LSTAT3    LSTAT4    LSTAT5    LSTAT6    LSTAT7  \\\n",
       "300 -0.922773 -0.738456 -0.554782 -0.422166 -0.333671 -0.273926 -0.231935   \n",
       "32   2.110588  2.361250  2.320551  2.091900  1.778692  1.449896  1.143940   \n",
       "181 -0.448985 -0.516017 -0.470071 -0.393883 -0.324988 -0.271404 -0.231230   \n",
       "272 -0.690084 -0.641318 -0.522245 -0.412708 -0.331167 -0.273304 -0.231787   \n",
       "477  1.718101  1.736491  1.525676  1.217641  0.905982  0.635721  0.420786   \n",
       "\n",
       "       LSTAT8    LSTAT9   LSTAT10  \n",
       "300 -0.201154 -0.177780 -0.159536  \n",
       "32   0.878417  0.658205  0.481244  \n",
       "181 -0.200962 -0.177729 -0.159522  \n",
       "272 -0.201120 -0.177772 -0.159534  \n",
       "477  0.259256  0.142724  0.061306  "
      ]
     },
     "execution_count": 87,
     "metadata": {},
     "output_type": "execute_result"
    }
   ],
   "source": [
    "y = df_sc[\"price\"]\n",
    "X = df_sc.drop(\"price\", axis=1)\n",
    "\n",
    "from sklearn.model_selection import train_test_split\n",
    "X_train, X_test, y_train, y_test = train_test_split(X, y, test_size=0.2, random_state=rand_state)\n",
    "X_train.head()"
   ]
  },
  {
   "cell_type": "markdown",
   "id": "449ab5d9",
   "metadata": {},
   "source": [
    "As we can see from the table above, the variables are highly correlated with each other. Let's first run a linear regression and see the results as benchmark."
   ]
  },
  {
   "cell_type": "code",
   "execution_count": 88,
   "id": "e3fe1355",
   "metadata": {},
   "outputs": [],
   "source": [
    "X_test_wc = sm.add_constant(X_test)  # wc(with constant)\n",
    "X_train_wc = sm.add_constant(X_train)  # wc(with constant)"
   ]
  },
  {
   "cell_type": "code",
   "execution_count": 89,
   "id": "c74c71ef",
   "metadata": {
    "scrolled": true
   },
   "outputs": [
    {
     "data": {
      "text/html": [
       "<table class=\"simpletable\">\n",
       "<caption>OLS Regression Results</caption>\n",
       "<tr>\n",
       "  <th>Dep. Variable:</th>          <td>price</td>      <th>  R-squared:         </th> <td>   0.677</td>\n",
       "</tr>\n",
       "<tr>\n",
       "  <th>Model:</th>                   <td>OLS</td>       <th>  Adj. R-squared:    </th> <td>   0.669</td>\n",
       "</tr>\n",
       "<tr>\n",
       "  <th>Method:</th>             <td>Least Squares</td>  <th>  F-statistic:       </th> <td>   82.44</td>\n",
       "</tr>\n",
       "<tr>\n",
       "  <th>Date:</th>             <td>Wed, 17 Aug 2022</td> <th>  Prob (F-statistic):</th> <td>4.51e-90</td>\n",
       "</tr>\n",
       "<tr>\n",
       "  <th>Time:</th>                 <td>15:17:55</td>     <th>  Log-Likelihood:    </th> <td> -344.23</td>\n",
       "</tr>\n",
       "<tr>\n",
       "  <th>No. Observations:</th>      <td>   404</td>      <th>  AIC:               </th> <td>   710.5</td>\n",
       "</tr>\n",
       "<tr>\n",
       "  <th>Df Residuals:</th>          <td>   393</td>      <th>  BIC:               </th> <td>   754.5</td>\n",
       "</tr>\n",
       "<tr>\n",
       "  <th>Df Model:</th>              <td>    10</td>      <th>                     </th>     <td> </td>   \n",
       "</tr>\n",
       "<tr>\n",
       "  <th>Covariance Type:</th>      <td>nonrobust</td>    <th>                     </th>     <td> </td>   \n",
       "</tr>\n",
       "</table>\n",
       "<table class=\"simpletable\">\n",
       "<tr>\n",
       "     <td></td>        <th>coef</th>     <th>std err</th>      <th>t</th>      <th>P>|t|</th>  <th>[0.025</th>    <th>0.975]</th>  \n",
       "</tr>\n",
       "<tr>\n",
       "  <th>const</th>   <td>    0.0120</td> <td>    0.029</td> <td>    0.417</td> <td> 0.677</td> <td>   -0.044</td> <td>    0.068</td>\n",
       "</tr>\n",
       "<tr>\n",
       "  <th>LSTAT</th>   <td>   10.4856</td> <td>   14.789</td> <td>    0.709</td> <td> 0.479</td> <td>  -18.591</td> <td>   39.562</td>\n",
       "</tr>\n",
       "<tr>\n",
       "  <th>LSTAT2</th>  <td> -198.4474</td> <td>  183.865</td> <td>   -1.079</td> <td> 0.281</td> <td> -559.929</td> <td>  163.035</td>\n",
       "</tr>\n",
       "<tr>\n",
       "  <th>LSTAT3</th>  <td> 1218.5360</td> <td> 1157.209</td> <td>    1.053</td> <td> 0.293</td> <td>-1056.559</td> <td> 3493.631</td>\n",
       "</tr>\n",
       "<tr>\n",
       "  <th>LSTAT4</th>  <td>-4039.5201</td> <td> 4549.147</td> <td>   -0.888</td> <td> 0.375</td> <td> -1.3e+04</td> <td> 4904.187</td>\n",
       "</tr>\n",
       "<tr>\n",
       "  <th>LSTAT5</th>  <td> 8029.8874</td> <td> 1.19e+04</td> <td>    0.675</td> <td> 0.500</td> <td>-1.54e+04</td> <td> 3.14e+04</td>\n",
       "</tr>\n",
       "<tr>\n",
       "  <th>LSTAT6</th>  <td>-9630.6577</td> <td> 2.11e+04</td> <td>   -0.456</td> <td> 0.649</td> <td>-5.11e+04</td> <td> 3.19e+04</td>\n",
       "</tr>\n",
       "<tr>\n",
       "  <th>LSTAT7</th>  <td> 6399.3110</td> <td> 2.51e+04</td> <td>    0.255</td> <td> 0.799</td> <td> -4.3e+04</td> <td> 5.58e+04</td>\n",
       "</tr>\n",
       "<tr>\n",
       "  <th>LSTAT8</th>  <td>-1554.6344</td> <td> 1.92e+04</td> <td>   -0.081</td> <td> 0.935</td> <td>-3.93e+04</td> <td> 3.62e+04</td>\n",
       "</tr>\n",
       "<tr>\n",
       "  <th>LSTAT9</th>  <td> -523.9209</td> <td> 8485.139</td> <td>   -0.062</td> <td> 0.951</td> <td>-1.72e+04</td> <td> 1.62e+04</td>\n",
       "</tr>\n",
       "<tr>\n",
       "  <th>LSTAT10</th> <td>  288.1740</td> <td> 1645.665</td> <td>    0.175</td> <td> 0.861</td> <td>-2947.235</td> <td> 3523.583</td>\n",
       "</tr>\n",
       "</table>\n",
       "<table class=\"simpletable\">\n",
       "<tr>\n",
       "  <th>Omnibus:</th>       <td>106.759</td> <th>  Durbin-Watson:     </th> <td>   1.957</td>\n",
       "</tr>\n",
       "<tr>\n",
       "  <th>Prob(Omnibus):</th> <td> 0.000</td>  <th>  Jarque-Bera (JB):  </th> <td> 319.634</td>\n",
       "</tr>\n",
       "<tr>\n",
       "  <th>Skew:</th>          <td> 1.217</td>  <th>  Prob(JB):          </th> <td>3.91e-70</td>\n",
       "</tr>\n",
       "<tr>\n",
       "  <th>Kurtosis:</th>      <td> 6.614</td>  <th>  Cond. No.          </th> <td>4.56e+06</td>\n",
       "</tr>\n",
       "</table><br/><br/>Notes:<br/>[1] Standard Errors assume that the covariance matrix of the errors is correctly specified.<br/>[2] The condition number is large, 4.56e+06. This might indicate that there are<br/>strong multicollinearity or other numerical problems."
      ],
      "text/plain": [
       "<class 'statsmodels.iolib.summary.Summary'>\n",
       "\"\"\"\n",
       "                            OLS Regression Results                            \n",
       "==============================================================================\n",
       "Dep. Variable:                  price   R-squared:                       0.677\n",
       "Model:                            OLS   Adj. R-squared:                  0.669\n",
       "Method:                 Least Squares   F-statistic:                     82.44\n",
       "Date:                Wed, 17 Aug 2022   Prob (F-statistic):           4.51e-90\n",
       "Time:                        15:17:55   Log-Likelihood:                -344.23\n",
       "No. Observations:                 404   AIC:                             710.5\n",
       "Df Residuals:                     393   BIC:                             754.5\n",
       "Df Model:                          10                                         \n",
       "Covariance Type:            nonrobust                                         \n",
       "==============================================================================\n",
       "                 coef    std err          t      P>|t|      [0.025      0.975]\n",
       "------------------------------------------------------------------------------\n",
       "const          0.0120      0.029      0.417      0.677      -0.044       0.068\n",
       "LSTAT         10.4856     14.789      0.709      0.479     -18.591      39.562\n",
       "LSTAT2      -198.4474    183.865     -1.079      0.281    -559.929     163.035\n",
       "LSTAT3      1218.5360   1157.209      1.053      0.293   -1056.559    3493.631\n",
       "LSTAT4     -4039.5201   4549.147     -0.888      0.375    -1.3e+04    4904.187\n",
       "LSTAT5      8029.8874   1.19e+04      0.675      0.500   -1.54e+04    3.14e+04\n",
       "LSTAT6     -9630.6577   2.11e+04     -0.456      0.649   -5.11e+04    3.19e+04\n",
       "LSTAT7      6399.3110   2.51e+04      0.255      0.799    -4.3e+04    5.58e+04\n",
       "LSTAT8     -1554.6344   1.92e+04     -0.081      0.935   -3.93e+04    3.62e+04\n",
       "LSTAT9      -523.9209   8485.139     -0.062      0.951   -1.72e+04    1.62e+04\n",
       "LSTAT10      288.1740   1645.665      0.175      0.861   -2947.235    3523.583\n",
       "==============================================================================\n",
       "Omnibus:                      106.759   Durbin-Watson:                   1.957\n",
       "Prob(Omnibus):                  0.000   Jarque-Bera (JB):              319.634\n",
       "Skew:                           1.217   Prob(JB):                     3.91e-70\n",
       "Kurtosis:                       6.614   Cond. No.                     4.56e+06\n",
       "==============================================================================\n",
       "\n",
       "Notes:\n",
       "[1] Standard Errors assume that the covariance matrix of the errors is correctly specified.\n",
       "[2] The condition number is large, 4.56e+06. This might indicate that there are\n",
       "strong multicollinearity or other numerical problems.\n",
       "\"\"\""
      ]
     },
     "execution_count": 89,
     "metadata": {},
     "output_type": "execute_result"
    }
   ],
   "source": [
    "sm.OLS(y_train, X_train_wc).fit().summary()"
   ]
  },
  {
   "cell_type": "markdown",
   "id": "71a1fb24",
   "metadata": {},
   "source": [
    "## Training the models\n",
    "\n",
    "In this section we will train 4 different models :\n",
    "\n",
    "1. Linear regression (model_linear)\n",
    "2. Ridge regression (model_ridge)\n",
    "3. Lasso regression (model_lasso)\n",
    "4. Elastic Net regression (model_net)"
   ]
  },
  {
   "cell_type": "code",
   "execution_count": 90,
   "id": "2949e370",
   "metadata": {},
   "outputs": [],
   "source": [
    "from sklearn.linear_model import LinearRegression, Ridge, RidgeCV, Lasso, LassoCV, ElasticNet, ElasticNetCV"
   ]
  },
  {
   "cell_type": "code",
   "execution_count": 92,
   "id": "0b19efce",
   "metadata": {},
   "outputs": [],
   "source": [
    "# first fit models using default alphas.\n",
    "\n",
    "model_linear = LinearRegression()\n",
    "model_ridge = Ridge()\n",
    "model_lasso = Lasso()\n",
    "model_net = ElasticNet()"
   ]
  },
  {
   "cell_type": "code",
   "execution_count": 93,
   "id": "4cac2bb0",
   "metadata": {},
   "outputs": [],
   "source": [
    "y_hat_linear = model_linear.fit(X_train, y_train).predict(X_test)\n",
    "y_hat_ridge = model_ridge.fit(X_train, y_train).predict(X_test)\n",
    "y_hat_lasso = model_lasso.fit(X_train, y_train).predict(X_test)\n",
    "y_hat_net = model_net.fit(X_train, y_train).predict(X_test)"
   ]
  },
  {
   "cell_type": "code",
   "execution_count": 94,
   "id": "a447294a",
   "metadata": {
    "scrolled": true
   },
   "outputs": [
    {
     "data": {
      "text/html": [
       "<div>\n",
       "<style scoped>\n",
       "    .dataframe tbody tr th:only-of-type {\n",
       "        vertical-align: middle;\n",
       "    }\n",
       "\n",
       "    .dataframe tbody tr th {\n",
       "        vertical-align: top;\n",
       "    }\n",
       "\n",
       "    .dataframe thead th {\n",
       "        text-align: right;\n",
       "    }\n",
       "</style>\n",
       "<table border=\"1\" class=\"dataframe\">\n",
       "  <thead>\n",
       "    <tr style=\"text-align: right;\">\n",
       "      <th></th>\n",
       "      <th>y_test</th>\n",
       "      <th>y_hat_linear</th>\n",
       "      <th>y_hat_ridge</th>\n",
       "      <th>y_hat_lasso</th>\n",
       "      <th>y_hat_net</th>\n",
       "    </tr>\n",
       "  </thead>\n",
       "  <tbody>\n",
       "    <tr>\n",
       "      <th>483</th>\n",
       "      <td>-0.079757</td>\n",
       "      <td>-0.019459</td>\n",
       "      <td>0.029108</td>\n",
       "      <td>0.009199</td>\n",
       "      <td>0.059533</td>\n",
       "    </tr>\n",
       "    <tr>\n",
       "      <th>426</th>\n",
       "      <td>-1.342272</td>\n",
       "      <td>-0.480570</td>\n",
       "      <td>-0.589703</td>\n",
       "      <td>0.009199</td>\n",
       "      <td>-0.054729</td>\n",
       "    </tr>\n",
       "    <tr>\n",
       "      <th>22</th>\n",
       "      <td>-0.798084</td>\n",
       "      <td>-0.736176</td>\n",
       "      <td>-0.786380</td>\n",
       "      <td>0.009199</td>\n",
       "      <td>-0.120425</td>\n",
       "    </tr>\n",
       "    <tr>\n",
       "      <th>268</th>\n",
       "      <td>2.282016</td>\n",
       "      <td>2.053967</td>\n",
       "      <td>1.495823</td>\n",
       "      <td>0.009199</td>\n",
       "      <td>0.216942</td>\n",
       "    </tr>\n",
       "    <tr>\n",
       "      <th>371</th>\n",
       "      <td>2.989460</td>\n",
       "      <td>0.041490</td>\n",
       "      <td>0.171371</td>\n",
       "      <td>0.009199</td>\n",
       "      <td>0.078830</td>\n",
       "    </tr>\n",
       "  </tbody>\n",
       "</table>\n",
       "</div>"
      ],
      "text/plain": [
       "       y_test  y_hat_linear  y_hat_ridge  y_hat_lasso  y_hat_net\n",
       "483 -0.079757     -0.019459     0.029108     0.009199   0.059533\n",
       "426 -1.342272     -0.480570    -0.589703     0.009199  -0.054729\n",
       "22  -0.798084     -0.736176    -0.786380     0.009199  -0.120425\n",
       "268  2.282016      2.053967     1.495823     0.009199   0.216942\n",
       "371  2.989460      0.041490     0.171371     0.009199   0.078830"
      ]
     },
     "execution_count": 94,
     "metadata": {},
     "output_type": "execute_result"
    }
   ],
   "source": [
    "df_predictions = pd.DataFrame({\"y_test\" : y_test,\n",
    "                              \"y_hat_linear\" : y_hat_linear,\n",
    "                              \"y_hat_ridge\" : y_hat_ridge,\n",
    "                              \"y_hat_lasso\" : y_hat_lasso,\n",
    "                              \"y_hat_net\" : y_hat_net})\n",
    "\n",
    "df_predictions.head()"
   ]
  },
  {
   "cell_type": "markdown",
   "id": "e3f781cf",
   "metadata": {},
   "source": [
    "## coefficients"
   ]
  },
  {
   "cell_type": "code",
   "execution_count": 96,
   "id": "f2b61f79",
   "metadata": {},
   "outputs": [
    {
     "data": {
      "text/plain": [
       "Index(['LSTAT', 'LSTAT2', 'LSTAT3', 'LSTAT4', 'LSTAT5', 'LSTAT6', 'LSTAT7',\n",
       "       'LSTAT8', 'LSTAT9', 'LSTAT10'],\n",
       "      dtype='object')"
      ]
     },
     "execution_count": 96,
     "metadata": {},
     "output_type": "execute_result"
    }
   ],
   "source": [
    "df.drop(\"price\", axis=1, inplace=False).columns"
   ]
  },
  {
   "cell_type": "code",
   "execution_count": 97,
   "id": "5b08e5d6",
   "metadata": {
    "scrolled": true
   },
   "outputs": [
    {
     "data": {
      "text/html": [
       "<div>\n",
       "<style scoped>\n",
       "    .dataframe tbody tr th:only-of-type {\n",
       "        vertical-align: middle;\n",
       "    }\n",
       "\n",
       "    .dataframe tbody tr th {\n",
       "        vertical-align: top;\n",
       "    }\n",
       "\n",
       "    .dataframe thead th {\n",
       "        text-align: right;\n",
       "    }\n",
       "</style>\n",
       "<table border=\"1\" class=\"dataframe\">\n",
       "  <thead>\n",
       "    <tr style=\"text-align: right;\">\n",
       "      <th></th>\n",
       "      <th>Features</th>\n",
       "      <th>model_lin</th>\n",
       "      <th>model_ridge</th>\n",
       "      <th>model_lasso</th>\n",
       "      <th>model_net</th>\n",
       "    </tr>\n",
       "  </thead>\n",
       "  <tbody>\n",
       "    <tr>\n",
       "      <th>0</th>\n",
       "      <td>LSTAT</td>\n",
       "      <td>10.485596</td>\n",
       "      <td>-1.997427</td>\n",
       "      <td>-0.0</td>\n",
       "      <td>-0.154677</td>\n",
       "    </tr>\n",
       "    <tr>\n",
       "      <th>1</th>\n",
       "      <td>LSTAT2</td>\n",
       "      <td>-198.447363</td>\n",
       "      <td>1.120503</td>\n",
       "      <td>-0.0</td>\n",
       "      <td>-0.000000</td>\n",
       "    </tr>\n",
       "    <tr>\n",
       "      <th>2</th>\n",
       "      <td>LSTAT3</td>\n",
       "      <td>1218.536029</td>\n",
       "      <td>0.705506</td>\n",
       "      <td>-0.0</td>\n",
       "      <td>-0.000000</td>\n",
       "    </tr>\n",
       "    <tr>\n",
       "      <th>3</th>\n",
       "      <td>LSTAT4</td>\n",
       "      <td>-4039.520114</td>\n",
       "      <td>-0.029523</td>\n",
       "      <td>-0.0</td>\n",
       "      <td>-0.000000</td>\n",
       "    </tr>\n",
       "    <tr>\n",
       "      <th>4</th>\n",
       "      <td>LSTAT5</td>\n",
       "      <td>8029.887432</td>\n",
       "      <td>-0.331986</td>\n",
       "      <td>-0.0</td>\n",
       "      <td>-0.000000</td>\n",
       "    </tr>\n",
       "    <tr>\n",
       "      <th>5</th>\n",
       "      <td>LSTAT6</td>\n",
       "      <td>-9630.657688</td>\n",
       "      <td>-0.305169</td>\n",
       "      <td>-0.0</td>\n",
       "      <td>-0.000000</td>\n",
       "    </tr>\n",
       "    <tr>\n",
       "      <th>6</th>\n",
       "      <td>LSTAT7</td>\n",
       "      <td>6399.310943</td>\n",
       "      <td>-0.150135</td>\n",
       "      <td>-0.0</td>\n",
       "      <td>-0.000000</td>\n",
       "    </tr>\n",
       "    <tr>\n",
       "      <th>7</th>\n",
       "      <td>LSTAT8</td>\n",
       "      <td>-1554.634406</td>\n",
       "      <td>0.007747</td>\n",
       "      <td>-0.0</td>\n",
       "      <td>-0.000000</td>\n",
       "    </tr>\n",
       "    <tr>\n",
       "      <th>8</th>\n",
       "      <td>LSTAT9</td>\n",
       "      <td>-523.920944</td>\n",
       "      <td>0.115016</td>\n",
       "      <td>-0.0</td>\n",
       "      <td>-0.000000</td>\n",
       "    </tr>\n",
       "    <tr>\n",
       "      <th>9</th>\n",
       "      <td>LSTAT10</td>\n",
       "      <td>288.174049</td>\n",
       "      <td>0.159595</td>\n",
       "      <td>-0.0</td>\n",
       "      <td>-0.000000</td>\n",
       "    </tr>\n",
       "  </tbody>\n",
       "</table>\n",
       "</div>"
      ],
      "text/plain": [
       "  Features    model_lin  model_ridge  model_lasso  model_net\n",
       "0    LSTAT    10.485596    -1.997427         -0.0  -0.154677\n",
       "1   LSTAT2  -198.447363     1.120503         -0.0  -0.000000\n",
       "2   LSTAT3  1218.536029     0.705506         -0.0  -0.000000\n",
       "3   LSTAT4 -4039.520114    -0.029523         -0.0  -0.000000\n",
       "4   LSTAT5  8029.887432    -0.331986         -0.0  -0.000000\n",
       "5   LSTAT6 -9630.657688    -0.305169         -0.0  -0.000000\n",
       "6   LSTAT7  6399.310943    -0.150135         -0.0  -0.000000\n",
       "7   LSTAT8 -1554.634406     0.007747         -0.0  -0.000000\n",
       "8   LSTAT9  -523.920944     0.115016         -0.0  -0.000000\n",
       "9  LSTAT10   288.174049     0.159595         -0.0  -0.000000"
      ]
     },
     "execution_count": 97,
     "metadata": {},
     "output_type": "execute_result"
    }
   ],
   "source": [
    "coefficients = pd.DataFrame({\"Features\": df.drop(\"price\", axis=1, inplace=False).columns})\n",
    "coefficients[\"model_lin\"] = model_linear.coef_\n",
    "coefficients[\"model_ridge\"] = model_ridge.coef_\n",
    "coefficients[\"model_lasso\"] = model_lasso.coef_\n",
    "coefficients[\"model_net\"] = model_net.coef_\n",
    "coefficients"
   ]
  },
  {
   "cell_type": "markdown",
   "id": "8c8a68e8",
   "metadata": {},
   "source": [
    "## performence in the test set"
   ]
  },
  {
   "cell_type": "code",
   "execution_count": 98,
   "id": "de9c283a",
   "metadata": {},
   "outputs": [
    {
     "data": {
      "text/plain": [
       "0.541"
      ]
     },
     "execution_count": 98,
     "metadata": {},
     "output_type": "execute_result"
    }
   ],
   "source": [
    "MSE_test = np.mean(np.square(df_predictions[\"y_test\"] - df_predictions[\"y_hat_linear\"]))\n",
    "RMSE_test = np.sqrt(MSE_test)\n",
    "np.round(RMSE_test, 3)"
   ]
  },
  {
   "cell_type": "code",
   "execution_count": 99,
   "id": "82fc1cc7",
   "metadata": {},
   "outputs": [
    {
     "data": {
      "text/plain": [
       "0.559"
      ]
     },
     "execution_count": 99,
     "metadata": {},
     "output_type": "execute_result"
    }
   ],
   "source": [
    "MSE_test = np.mean(np.square(df_predictions[\"y_test\"] - df_predictions[\"y_hat_ridge\"]))\n",
    "RMSE_test = np.sqrt(MSE_test)\n",
    "np.round(RMSE_test, 3)"
   ]
  },
  {
   "cell_type": "code",
   "execution_count": 100,
   "id": "959c0fbe",
   "metadata": {},
   "outputs": [
    {
     "data": {
      "text/plain": [
       "1.006"
      ]
     },
     "execution_count": 100,
     "metadata": {},
     "output_type": "execute_result"
    }
   ],
   "source": [
    "MSE_test = np.mean(np.square(df_predictions[\"y_test\"] - df_predictions[\"y_hat_lasso\"]))\n",
    "RMSE_test = np.sqrt(MSE_test)\n",
    "np.round(RMSE_test, 3)\n",
    "\n",
    "# alpha = 1 old. için burada bias yüksek. bu nedenle RMSE değeri de yüksek."
   ]
  },
  {
   "cell_type": "code",
   "execution_count": 101,
   "id": "ba094a1d",
   "metadata": {
    "scrolled": true
   },
   "outputs": [
    {
     "data": {
      "text/plain": [
       "0.898"
      ]
     },
     "execution_count": 101,
     "metadata": {},
     "output_type": "execute_result"
    }
   ],
   "source": [
    "MSE_test = np.mean(np.square(df_predictions[\"y_test\"] - df_predictions[\"y_hat_net\"]))\n",
    "RMSE_test = np.sqrt(MSE_test)\n",
    "np.round(RMSE_test, 3)"
   ]
  },
  {
   "cell_type": "code",
   "execution_count": null,
   "id": "fdbc9d3b",
   "metadata": {},
   "outputs": [],
   "source": []
  },
  {
   "cell_type": "code",
   "execution_count": null,
   "id": "5939ac0d",
   "metadata": {},
   "outputs": [],
   "source": []
  }
 ],
 "metadata": {
  "kernelspec": {
   "display_name": "Python 3 (ipykernel)",
   "language": "python",
   "name": "python3"
  },
  "language_info": {
   "codemirror_mode": {
    "name": "ipython",
    "version": 3
   },
   "file_extension": ".py",
   "mimetype": "text/x-python",
   "name": "python",
   "nbconvert_exporter": "python",
   "pygments_lexer": "ipython3",
   "version": "3.9.7"
  },
  "toc": {
   "base_numbering": 1,
   "nav_menu": {},
   "number_sections": true,
   "sideBar": true,
   "skip_h1_title": false,
   "title_cell": "Table of Contents",
   "title_sidebar": "Contents",
   "toc_cell": false,
   "toc_position": {
    "height": "calc(100% - 180px)",
    "left": "10px",
    "top": "150px",
    "width": "245.76px"
   },
   "toc_section_display": true,
   "toc_window_display": true
  }
 },
 "nbformat": 4,
 "nbformat_minor": 5
}
