{
 "cells": [
  {
   "cell_type": "code",
   "execution_count": 1,
   "id": "b04cf19f",
   "metadata": {},
   "outputs": [],
   "source": [
    "import numpy as np\n",
    "import pandas as pd\n",
    "import matplotlib.pyplot as plt\n",
    "import seaborn as sns\n",
    "from sklearn.linear_model import LinearRegression\n",
    "from sklearn.preprocessing import PolynomialFeatures\n",
    "\n",
    "sns.set() # if you want to use seaborn themes with matplotlib functions"
   ]
  },
  {
   "cell_type": "markdown",
   "id": "37e96991",
   "metadata": {},
   "source": [
    "## Polynomial Regression"
   ]
  },
  {
   "cell_type": "markdown",
   "id": "ba60fad3",
   "metadata": {},
   "source": [
    " Let's generate some random dataset based on true model f(x)\n",
    "    \n",
    "    y= f(x) = x + 2x**2 - 3x**3 + c"
   ]
  },
  {
   "cell_type": "code",
   "execution_count": 3,
   "id": "2791587a",
   "metadata": {},
   "outputs": [
    {
     "data": {
      "text/plain": [
       "array([ 2.33991332,  0.3536782 , -1.80068875,  0.10960852, -0.35152472])"
      ]
     },
     "execution_count": 3,
     "metadata": {},
     "output_type": "execute_result"
    }
   ],
   "source": [
    "np.random.randn(5)"
   ]
  },
  {
   "cell_type": "code",
   "execution_count": 4,
   "id": "2f173f5b",
   "metadata": {},
   "outputs": [
    {
     "data": {
      "image/png": "[encoded data removed]",
      "text/plain": [
       "<Figure size 432x288 with 1 Axes>"
      ]
     },
     "metadata": {
      "needs_background": "light"
     },
     "output_type": "display_data"
    }
   ],
   "source": [
    "np.random.seed(102)\n",
    "x= np.random.randn(100)\n",
    "y= x + 2*(x**2) - 3 *(x**3) + 5 * np.random.normal(0,2,100)\n",
    "\n",
    "plt.scatter(x,y);"
   ]
  },
  {
   "cell_type": "code",
   "execution_count": 5,
   "id": "f4a2f2e3",
   "metadata": {},
   "outputs": [
    {
     "data": {
      "image/png": "[encoded data removed]",
      "text/plain": [
       "<Figure size 432x288 with 1 Axes>"
      ]
     },
     "metadata": {
      "needs_background": "light"
     },
     "output_type": "display_data"
    }
   ],
   "source": [
    "plt.scatter(x,y)\n",
    "# let's add the unobservable true model\n",
    "\n",
    "w= np.linspace(-3,3,500)\n",
    "z= w + 2*(w**2) - 3 *(w**3)\n",
    "plt.plot(w,z, c=\"black\");"
   ]
  },
  {
   "cell_type": "markdown",
   "id": "da8288ab",
   "metadata": {},
   "source": [
    "## Polynomial transformation of the data"
   ]
  },
  {
   "cell_type": "code",
   "execution_count": 6,
   "id": "3b7d531f",
   "metadata": {},
   "outputs": [],
   "source": [
    "poly = PolynomialFeatures(degree=10)"
   ]
  },
  {
   "cell_type": "code",
   "execution_count": 7,
   "id": "060a2cec",
   "metadata": {},
   "outputs": [
    {
     "data": {
      "text/plain": [
       "numpy.ndarray"
      ]
     },
     "execution_count": 7,
     "metadata": {},
     "output_type": "execute_result"
    }
   ],
   "source": [
    "type(x)"
   ]
  },
  {
   "cell_type": "code",
   "execution_count": 8,
   "id": "1d7de018",
   "metadata": {},
   "outputs": [
    {
     "data": {
      "text/plain": [
       "array([ 1.6680683 ,  0.92586182,  1.05799677, -0.92033901,  1.29974847])"
      ]
     },
     "execution_count": 8,
     "metadata": {},
     "output_type": "execute_result"
    }
   ],
   "source": [
    "x[0:5]"
   ]
  },
  {
   "cell_type": "code",
   "execution_count": 17,
   "id": "ebe6a6d8",
   "metadata": {},
   "outputs": [
    {
     "data": {
      "text/plain": [
       "array([[ 1.6680683 ],\n",
       "       [ 0.92586182],\n",
       "       [ 1.05799677],\n",
       "       [-0.92033901],\n",
       "       [ 1.29974847]])"
      ]
     },
     "execution_count": 17,
     "metadata": {},
     "output_type": "execute_result"
    }
   ],
   "source": [
    "x.reshape(-1,1)[0:5]\n",
    "# this is equivalent to x.reshape(100, 1)[0:5]"
   ]
  },
  {
   "cell_type": "code",
   "execution_count": 19,
   "id": "87c34057",
   "metadata": {},
   "outputs": [
    {
     "data": {
      "text/html": [
       "<div>\n",
       "<style scoped>\n",
       "    .dataframe tbody tr th:only-of-type {\n",
       "        vertical-align: middle;\n",
       "    }\n",
       "\n",
       "    .dataframe tbody tr th {\n",
       "        vertical-align: top;\n",
       "    }\n",
       "\n",
       "    .dataframe thead th {\n",
       "        text-align: right;\n",
       "    }\n",
       "</style>\n",
       "<table border=\"1\" class=\"dataframe\">\n",
       "  <thead>\n",
       "    <tr style=\"text-align: right;\">\n",
       "      <th></th>\n",
       "      <th>0</th>\n",
       "      <th>1</th>\n",
       "      <th>2</th>\n",
       "      <th>3</th>\n",
       "      <th>4</th>\n",
       "      <th>5</th>\n",
       "      <th>6</th>\n",
       "      <th>7</th>\n",
       "      <th>8</th>\n",
       "      <th>9</th>\n",
       "      <th>10</th>\n",
       "    </tr>\n",
       "  </thead>\n",
       "  <tbody>\n",
       "    <tr>\n",
       "      <th>0</th>\n",
       "      <td>1.0</td>\n",
       "      <td>1.668068</td>\n",
       "      <td>2.782452</td>\n",
       "      <td>4.641320</td>\n",
       "      <td>7.742038</td>\n",
       "      <td>12.914249</td>\n",
       "      <td>21.541849</td>\n",
       "      <td>35.933275</td>\n",
       "      <td>59.939156</td>\n",
       "      <td>99.982606</td>\n",
       "      <td>166.777815</td>\n",
       "    </tr>\n",
       "    <tr>\n",
       "      <th>1</th>\n",
       "      <td>1.0</td>\n",
       "      <td>0.925862</td>\n",
       "      <td>0.857220</td>\n",
       "      <td>0.793667</td>\n",
       "      <td>0.734826</td>\n",
       "      <td>0.680348</td>\n",
       "      <td>0.629908</td>\n",
       "      <td>0.583208</td>\n",
       "      <td>0.539970</td>\n",
       "      <td>0.499937</td>\n",
       "      <td>0.462873</td>\n",
       "    </tr>\n",
       "    <tr>\n",
       "      <th>2</th>\n",
       "      <td>1.0</td>\n",
       "      <td>1.057997</td>\n",
       "      <td>1.119357</td>\n",
       "      <td>1.184276</td>\n",
       "      <td>1.252960</td>\n",
       "      <td>1.325628</td>\n",
       "      <td>1.402510</td>\n",
       "      <td>1.483851</td>\n",
       "      <td>1.569910</td>\n",
       "      <td>1.660960</td>\n",
       "      <td>1.757290</td>\n",
       "    </tr>\n",
       "    <tr>\n",
       "      <th>3</th>\n",
       "      <td>1.0</td>\n",
       "      <td>-0.920339</td>\n",
       "      <td>0.847024</td>\n",
       "      <td>-0.779549</td>\n",
       "      <td>0.717449</td>\n",
       "      <td>-0.660297</td>\n",
       "      <td>0.607697</td>\n",
       "      <td>-0.559287</td>\n",
       "      <td>0.514734</td>\n",
       "      <td>-0.473730</td>\n",
       "      <td>0.435992</td>\n",
       "    </tr>\n",
       "    <tr>\n",
       "      <th>4</th>\n",
       "      <td>1.0</td>\n",
       "      <td>1.299748</td>\n",
       "      <td>1.689346</td>\n",
       "      <td>2.195725</td>\n",
       "      <td>2.853890</td>\n",
       "      <td>3.709339</td>\n",
       "      <td>4.821208</td>\n",
       "      <td>6.266358</td>\n",
       "      <td>8.144689</td>\n",
       "      <td>10.586047</td>\n",
       "      <td>13.759198</td>\n",
       "    </tr>\n",
       "  </tbody>\n",
       "</table>\n",
       "</div>"
      ],
      "text/plain": [
       "    0         1         2         3         4          5          6   \\\n",
       "0  1.0  1.668068  2.782452  4.641320  7.742038  12.914249  21.541849   \n",
       "1  1.0  0.925862  0.857220  0.793667  0.734826   0.680348   0.629908   \n",
       "2  1.0  1.057997  1.119357  1.184276  1.252960   1.325628   1.402510   \n",
       "3  1.0 -0.920339  0.847024 -0.779549  0.717449  -0.660297   0.607697   \n",
       "4  1.0  1.299748  1.689346  2.195725  2.853890   3.709339   4.821208   \n",
       "\n",
       "          7          8          9           10  \n",
       "0  35.933275  59.939156  99.982606  166.777815  \n",
       "1   0.583208   0.539970   0.499937    0.462873  \n",
       "2   1.483851   1.569910   1.660960    1.757290  \n",
       "3  -0.559287   0.514734  -0.473730    0.435992  \n",
       "4   6.266358   8.144689  10.586047   13.759198  "
      ]
     },
     "execution_count": 19,
     "metadata": {},
     "output_type": "execute_result"
    }
   ],
   "source": [
    "x_poly = pd.DataFrame(poly.fit_transform(x.reshape(-1,1)))\n",
    "x_poly.head()  # as degree is 10 we have 10 columns"
   ]
  },
  {
   "cell_type": "markdown",
   "id": "1b89c031",
   "metadata": {},
   "source": [
    "## Splitting the data"
   ]
  },
  {
   "cell_type": "code",
   "execution_count": 22,
   "id": "650d8e22",
   "metadata": {},
   "outputs": [],
   "source": [
    "from sklearn.model_selection import train_test_split\n",
    "x_train, x_test, y_train, y_test = train_test_split(x_poly, y, test_size=0.3, random_state=100)"
   ]
  },
  {
   "cell_type": "code",
   "execution_count": 23,
   "id": "a33490d2",
   "metadata": {},
   "outputs": [
    {
     "data": {
      "text/plain": [
       "LinearRegression()"
      ]
     },
     "execution_count": 23,
     "metadata": {},
     "output_type": "execute_result"
    }
   ],
   "source": [
    "model = LinearRegression()\n",
    "model.fit(x_train, y_train)"
   ]
  },
  {
   "cell_type": "code",
   "execution_count": 24,
   "id": "bc4be87b",
   "metadata": {},
   "outputs": [],
   "source": [
    "y_hat_te = model.predict(x_test)"
   ]
  },
  {
   "cell_type": "code",
   "execution_count": 25,
   "id": "968725b0",
   "metadata": {},
   "outputs": [
    {
     "data": {
      "text/html": [
       "<div>\n",
       "<style scoped>\n",
       "    .dataframe tbody tr th:only-of-type {\n",
       "        vertical-align: middle;\n",
       "    }\n",
       "\n",
       "    .dataframe tbody tr th {\n",
       "        vertical-align: top;\n",
       "    }\n",
       "\n",
       "    .dataframe thead th {\n",
       "        text-align: right;\n",
       "    }\n",
       "</style>\n",
       "<table border=\"1\" class=\"dataframe\">\n",
       "  <thead>\n",
       "    <tr style=\"text-align: right;\">\n",
       "      <th></th>\n",
       "      <th>y_test</th>\n",
       "      <th>y_hat_test</th>\n",
       "      <th>resid</th>\n",
       "    </tr>\n",
       "  </thead>\n",
       "  <tbody>\n",
       "    <tr>\n",
       "      <th>0</th>\n",
       "      <td>-5.403786</td>\n",
       "      <td>-3.474959</td>\n",
       "      <td>-1.928826</td>\n",
       "    </tr>\n",
       "    <tr>\n",
       "      <th>1</th>\n",
       "      <td>-14.957215</td>\n",
       "      <td>-1.383075</td>\n",
       "      <td>-13.574140</td>\n",
       "    </tr>\n",
       "    <tr>\n",
       "      <th>2</th>\n",
       "      <td>61.375324</td>\n",
       "      <td>-151.901283</td>\n",
       "      <td>213.276607</td>\n",
       "    </tr>\n",
       "    <tr>\n",
       "      <th>3</th>\n",
       "      <td>-17.744152</td>\n",
       "      <td>20.013897</td>\n",
       "      <td>-37.758048</td>\n",
       "    </tr>\n",
       "    <tr>\n",
       "      <th>4</th>\n",
       "      <td>-15.849248</td>\n",
       "      <td>-1.603973</td>\n",
       "      <td>-14.245275</td>\n",
       "    </tr>\n",
       "  </tbody>\n",
       "</table>\n",
       "</div>"
      ],
      "text/plain": [
       "      y_test  y_hat_test       resid\n",
       "0  -5.403786   -3.474959   -1.928826\n",
       "1 -14.957215   -1.383075  -13.574140\n",
       "2  61.375324 -151.901283  213.276607\n",
       "3 -17.744152   20.013897  -37.758048\n",
       "4 -15.849248   -1.603973  -14.245275"
      ]
     },
     "execution_count": 25,
     "metadata": {},
     "output_type": "execute_result"
    }
   ],
   "source": [
    "df_predictions = pd.DataFrame({\"y_test\": y_test, \"y_hat_test\": y_hat_te, \"resid\": y_test-y_hat_te})\n",
    "df_predictions.head()"
   ]
  },
  {
   "cell_type": "markdown",
   "id": "d4699e28",
   "metadata": {},
   "source": [
    "## Plotting the train data regression function"
   ]
  },
  {
   "cell_type": "code",
   "execution_count": 27,
   "id": "cf80ccd1",
   "metadata": {},
   "outputs": [
    {
     "data": {
      "text/plain": [
       "numpy.ndarray"
      ]
     },
     "execution_count": 27,
     "metadata": {},
     "output_type": "execute_result"
    }
   ],
   "source": [
    "y_hat_tr = model.predict(x_train)\n",
    "type(y_hat_tr)"
   ]
  },
  {
   "cell_type": "code",
   "execution_count": 28,
   "id": "45771cdc",
   "metadata": {},
   "outputs": [
    {
     "data": {
      "text/plain": [
       "array([[ 0.99718968,  7.46927188],\n",
       "       [-0.50984497, -3.10530288],\n",
       "       [-0.92033901,  2.83423479],\n",
       "       [-0.48492775, -3.1088848 ],\n",
       "       [-0.79430004, -0.20982046]])"
      ]
     },
     "execution_count": 28,
     "metadata": {},
     "output_type": "execute_result"
    }
   ],
   "source": [
    "np.c_[x_train[1], y_hat_tr][:5]"
   ]
  },
  {
   "cell_type": "code",
   "execution_count": 29,
   "id": "93688cd6",
   "metadata": {},
   "outputs": [
    {
     "data": {
      "text/html": [
       "<div>\n",
       "<style scoped>\n",
       "    .dataframe tbody tr th:only-of-type {\n",
       "        vertical-align: middle;\n",
       "    }\n",
       "\n",
       "    .dataframe tbody tr th {\n",
       "        vertical-align: top;\n",
       "    }\n",
       "\n",
       "    .dataframe thead th {\n",
       "        text-align: right;\n",
       "    }\n",
       "</style>\n",
       "<table border=\"1\" class=\"dataframe\">\n",
       "  <thead>\n",
       "    <tr style=\"text-align: right;\">\n",
       "      <th></th>\n",
       "      <th>x</th>\n",
       "      <th>y_hat_tr</th>\n",
       "    </tr>\n",
       "  </thead>\n",
       "  <tbody>\n",
       "    <tr>\n",
       "      <th>0</th>\n",
       "      <td>0.997190</td>\n",
       "      <td>7.469272</td>\n",
       "    </tr>\n",
       "    <tr>\n",
       "      <th>1</th>\n",
       "      <td>-0.509845</td>\n",
       "      <td>-3.105303</td>\n",
       "    </tr>\n",
       "    <tr>\n",
       "      <th>2</th>\n",
       "      <td>-0.920339</td>\n",
       "      <td>2.834235</td>\n",
       "    </tr>\n",
       "    <tr>\n",
       "      <th>3</th>\n",
       "      <td>-0.484928</td>\n",
       "      <td>-3.108885</td>\n",
       "    </tr>\n",
       "    <tr>\n",
       "      <th>4</th>\n",
       "      <td>-0.794300</td>\n",
       "      <td>-0.209820</td>\n",
       "    </tr>\n",
       "  </tbody>\n",
       "</table>\n",
       "</div>"
      ],
      "text/plain": [
       "          x  y_hat_tr\n",
       "0  0.997190  7.469272\n",
       "1 -0.509845 -3.105303\n",
       "2 -0.920339  2.834235\n",
       "3 -0.484928 -3.108885\n",
       "4 -0.794300 -0.209820"
      ]
     },
     "execution_count": 29,
     "metadata": {},
     "output_type": "execute_result"
    }
   ],
   "source": [
    "prediction_tr = pd.DataFrame(np.c_[x_train[1], y_hat_tr], columns=[\"x\",\"y_hat_tr\"])\n",
    "prediction_tr.head()"
   ]
  },
  {
   "cell_type": "code",
   "execution_count": 35,
   "id": "9e148d9a",
   "metadata": {},
   "outputs": [
    {
     "data": {
      "image/png": "[encoded data removed]",
      "text/plain": [
       "<Figure size 432x288 with 1 Axes>"
      ]
     },
     "metadata": {
      "needs_background": "light"
     },
     "output_type": "display_data"
    }
   ],
   "source": [
    "# plotting the fitted line vs true(unobservable) line\n",
    "\n",
    "sns.lineplot(x=\"x\", y=\"y_hat_tr\", data = prediction_tr)\n",
    "plt.scatter(x_train[1], y_train, s=10, c=\"g\")\n",
    "plt.plot(w, z, c=\"black\", linewidth=1);"
   ]
  },
  {
   "cell_type": "markdown",
   "id": "91a10f96",
   "metadata": {},
   "source": [
    "## Comparing the MSE_train and MSE_test"
   ]
  },
  {
   "cell_type": "code",
   "execution_count": 37,
   "id": "a60871db",
   "metadata": {},
   "outputs": [
    {
     "data": {
      "text/plain": [
       "94.8"
      ]
     },
     "execution_count": 37,
     "metadata": {},
     "output_type": "execute_result"
    }
   ],
   "source": [
    "err_tr = y_train - y_hat_tr\n",
    "MSE_train = np.mean(np.square(err_tr))\n",
    "round(MSE_train, 2)"
   ]
  },
  {
   "cell_type": "code",
   "execution_count": 38,
   "id": "4697dedd",
   "metadata": {},
   "outputs": [
    {
     "data": {
      "text/plain": [
       "74376445.0"
      ]
     },
     "execution_count": 38,
     "metadata": {},
     "output_type": "execute_result"
    }
   ],
   "source": [
    "err_te = y_test - y_hat_te\n",
    "MSE_test = np.mean(np.square(err_te))\n",
    "round(MSE_test, 2)"
   ]
  },
  {
   "cell_type": "markdown",
   "id": "5f9dc2e5",
   "metadata": {},
   "source": [
    "## All in one function"
   ]
  },
  {
   "cell_type": "code",
   "execution_count": 39,
   "id": "ba3b971c",
   "metadata": {},
   "outputs": [],
   "source": [
    "import numpy as np\n",
    "import pandas as pd\n",
    "\n",
    "from sklearn.linear_model import LinearRegression\n",
    "from sklearn.preprocessing import PolynomialFeatures\n",
    "from sklearn.model_selection import train_test_split\n",
    "\n",
    "\n",
    "\n",
    "def my_polynomial_regression (poly_degree, x, y, test_size=0.3, rand_state=100):\n",
    "    poly_features = PolynomialFeatures(degree=poly_degree)\n",
    "    \n",
    "    # transform the existing features to higher degree features\n",
    "    x_poly = pd.DataFrame(poly_features.fit_transform(x.reshape(-1,1)))\n",
    "    \n",
    "    x_train, x_test, y_train, y_test = train_test_split(x_poly, y, test_size = test_size, random_state = rand_state)\n",
    "    \n",
    "    # fit the transformed features to Linear Regression\n",
    "    poly_model = LinearRegression()\n",
    "    poly_model.fit(x_train, y_train)\n",
    "    \n",
    "    # predicting on training dataset\n",
    "    y_train_predicted = poly_model.predict(x_train)\n",
    "    \n",
    "    # predicting on test dataset\n",
    "    y_test_predicted = poly_model.predict(x_test)\n",
    "    \n",
    "    # evaluating the model on training dataset\n",
    "    MSE_train = round(np.mean(np.square(y_train-y_train_predicted)),2)\n",
    "    RMSE_train = round(np.sqrt(MSE_train),2)\n",
    "\n",
    "    # evaluating the model on test dataset\n",
    "    MSE_test = round(np.mean(np.square(y_test-y_test_predicted)),2)\n",
    "    RMSE_test = round(np.sqrt(MSE_test),2)\n",
    "    \n",
    "    return poly_degree, RMSE_train, RMSE_test\n",
    "    \n"
   ]
  },
  {
   "cell_type": "code",
   "execution_count": 40,
   "id": "809b57e7",
   "metadata": {},
   "outputs": [
    {
     "data": {
      "text/plain": [
       "(5, 9.94, 44.58)"
      ]
     },
     "execution_count": 40,
     "metadata": {},
     "output_type": "execute_result"
    }
   ],
   "source": [
    "my_polynomial_regression(poly_degree=5, x=x, y=y)"
   ]
  },
  {
   "cell_type": "code",
   "execution_count": 41,
   "id": "653f75d4",
   "metadata": {},
   "outputs": [
    {
     "data": {
      "text/plain": [
       "(1, 12.65, 20.74)"
      ]
     },
     "execution_count": 41,
     "metadata": {},
     "output_type": "execute_result"
    }
   ],
   "source": [
    "my_polynomial_regression(poly_degree=1, x=x, y=y)"
   ]
  },
  {
   "cell_type": "code",
   "execution_count": 42,
   "id": "d94e526a",
   "metadata": {},
   "outputs": [
    {
     "data": {
      "text/html": [
       "<div>\n",
       "<style scoped>\n",
       "    .dataframe tbody tr th:only-of-type {\n",
       "        vertical-align: middle;\n",
       "    }\n",
       "\n",
       "    .dataframe tbody tr th {\n",
       "        vertical-align: top;\n",
       "    }\n",
       "\n",
       "    .dataframe thead th {\n",
       "        text-align: right;\n",
       "    }\n",
       "</style>\n",
       "<table border=\"1\" class=\"dataframe\">\n",
       "  <thead>\n",
       "    <tr style=\"text-align: right;\">\n",
       "      <th></th>\n",
       "      <th>Degree</th>\n",
       "      <th>RMSE_train</th>\n",
       "      <th>RMSE_test</th>\n",
       "    </tr>\n",
       "  </thead>\n",
       "  <tbody>\n",
       "    <tr>\n",
       "      <th>0</th>\n",
       "      <td>1</td>\n",
       "      <td>12.65</td>\n",
       "      <td>20.74</td>\n",
       "    </tr>\n",
       "    <tr>\n",
       "      <th>1</th>\n",
       "      <td>2</td>\n",
       "      <td>11.32</td>\n",
       "      <td>29.15</td>\n",
       "    </tr>\n",
       "    <tr>\n",
       "      <th>2</th>\n",
       "      <td>3</td>\n",
       "      <td>10.24</td>\n",
       "      <td>10.20</td>\n",
       "    </tr>\n",
       "    <tr>\n",
       "      <th>3</th>\n",
       "      <td>4</td>\n",
       "      <td>10.06</td>\n",
       "      <td>33.45</td>\n",
       "    </tr>\n",
       "    <tr>\n",
       "      <th>4</th>\n",
       "      <td>5</td>\n",
       "      <td>9.94</td>\n",
       "      <td>44.58</td>\n",
       "    </tr>\n",
       "  </tbody>\n",
       "</table>\n",
       "</div>"
      ],
      "text/plain": [
       "   Degree  RMSE_train  RMSE_test\n",
       "0       1       12.65      20.74\n",
       "1       2       11.32      29.15\n",
       "2       3       10.24      10.20\n",
       "3       4       10.06      33.45\n",
       "4       5        9.94      44.58"
      ]
     },
     "execution_count": 42,
     "metadata": {},
     "output_type": "execute_result"
    }
   ],
   "source": [
    "returns = []\n",
    "\n",
    "for i in range(1,6) :\n",
    "    returns.append(my_polynomial_regression(poly_degree=i, x=x, y=y))\n",
    "    \n",
    "output = pd.DataFrame(returns, columns=[\"Degree\",\"RMSE_train\",\"RMSE_test\"])\n",
    "output"
   ]
  },
  {
   "cell_type": "code",
   "execution_count": 43,
   "id": "cca47600",
   "metadata": {},
   "outputs": [
    {
     "data": {
      "image/png": "[encoded data removed]",
      "text/plain": [
       "<Figure size 432x288 with 1 Axes>"
      ]
     },
     "metadata": {
      "needs_background": "light"
     },
     "output_type": "display_data"
    }
   ],
   "source": [
    "output.set_index(\"Degree\").plot();"
   ]
  },
  {
   "cell_type": "code",
   "execution_count": null,
   "id": "e26c8402",
   "metadata": {},
   "outputs": [],
   "source": []
  }
 ],
 "metadata": {
  "kernelspec": {
   "display_name": "Python 3 (ipykernel)",
   "language": "python",
   "name": "python3"
  },
  "language_info": {
   "codemirror_mode": {
    "name": "ipython",
    "version": 3
   },
   "file_extension": ".py",
   "mimetype": "text/x-python",
   "name": "python",
   "nbconvert_exporter": "python",
   "pygments_lexer": "ipython3",
   "version": "3.9.7"
  },
  "toc": {
   "base_numbering": 1,
   "nav_menu": {},
   "number_sections": true,
   "sideBar": true,
   "skip_h1_title": false,
   "title_cell": "Table of Contents",
   "title_sidebar": "Contents",
   "toc_cell": false,
   "toc_position": {},
   "toc_section_display": true,
   "toc_window_display": false
  }
 },
 "nbformat": 4,
 "nbformat_minor": 5
}
